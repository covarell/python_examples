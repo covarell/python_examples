{
 "cells": [
  {
   "cell_type": "code",
   "execution_count": 1,
   "id": "1b7a1f5d-96e6-4925-a1ff-c3312636f77a",
   "metadata": {},
   "outputs": [],
   "source": [
    "import ROOT"
   ]
  },
  {
   "cell_type": "code",
   "execution_count": 2,
   "id": "4b384fae-5978-4dc4-9ea5-7ad9f4ea27b2",
   "metadata": {},
   "outputs": [],
   "source": [
    "c1 = ROOT.TCanvas()"
   ]
  },
  {
   "cell_type": "code",
   "execution_count": 3,
   "id": "4d3d3b0c-60b6-4341-b961-2ab5654dafab",
   "metadata": {},
   "outputs": [],
   "source": [
    "h1 = ROOT.TH1F(\"h1\",\"Dimostrazione Binomiale\",12,0.,12.) "
   ]
  },
  {
   "cell_type": "code",
   "execution_count": 4,
   "id": "0c53a56e-b76c-47f5-ab08-b8fece868a81",
   "metadata": {},
   "outputs": [],
   "source": [
    "h1.SetMarkerStyle(20)\n",
    "\n",
    "import numpy as np\n",
    "\n",
    "tr = ROOT.TRandom3()\n",
    "\n",
    "for imeas in range(500):\n",
    "    a = np.empty(30)\n",
    "    tr.RndmArray(30,a)\n",
    "    rainy_day = [x < 0.16667 for x in a]   \n",
    "    h1.Fill(rainy_day.count(True)+0.1)\n",
    "    "
   ]
  },
  {
   "cell_type": "code",
   "execution_count": 5,
   "id": "567443fc-b879-42cb-8a22-4c9ff9068a41",
   "metadata": {},
   "outputs": [],
   "source": [
    "h1.Draw()"
   ]
  },
  {
   "cell_type": "code",
   "execution_count": 6,
   "id": "0348b1f4-9077-4df0-9b29-cd33873ef7d3",
   "metadata": {},
   "outputs": [
    {
     "data": {
      "image/png": "[encoded data removed]",
      "text/plain": [
       "<IPython.core.display.Image object>"
      ]
     },
     "metadata": {},
     "output_type": "display_data"
    }
   ],
   "source": [
    "c1.Update()"
   ]
  },
  {
   "cell_type": "code",
   "execution_count": 7,
   "id": "b529a115-d22a-4da4-b345-cb5e30e25588",
   "metadata": {},
   "outputs": [
    {
     "data": {
      "text/plain": [
       "<cppyy.gbl.TFitResultPtr object at 0x5623fac838a0>"
      ]
     },
     "execution_count": 7,
     "metadata": {},
     "output_type": "execute_result"
    },
    {
     "name": "stdout",
     "output_type": "stream",
     "text": [
      "****************************************\n",
      "Minimizer is Minuit2 / Migrad\n",
      "Chi2                      =      14.9674\n",
      "NDf                       =           10\n",
      "Edm                       =  5.22045e-06\n",
      "NCalls                    =           68\n",
      "p0                        =      488.021   +/-   22.1836     \n",
      "p1                        =        5.513   +/-   0.0918261   \n"
     ]
    }
   ],
   "source": [
    "fPois = ROOT.TF1(\"fPois\",\"[0]*TMath::Poisson(x,[1])\",-10.,20.)\n",
    "fPois.SetParameters(2000.,3.)\n",
    "h1.Fit(\"fPois\",\"S\",\"E1\")"
   ]
  },
  {
   "cell_type": "code",
   "execution_count": 8,
   "id": "abd563df-8f84-4a74-b74c-ff5d3d44f1f6",
   "metadata": {},
   "outputs": [],
   "source": [
    "c1.Update()"
   ]
  },
  {
   "cell_type": "code",
   "execution_count": 9,
   "id": "7949318b-7dd7-4734-bc90-76b62ac41882",
   "metadata": {},
   "outputs": [
    {
     "data": {
      "text/plain": [
       "<cppyy.gbl.TFitResultPtr object at 0x5623faa1dc50>"
      ]
     },
     "execution_count": 9,
     "metadata": {},
     "output_type": "execute_result"
    },
    {
     "name": "stdout",
     "output_type": "stream",
     "text": [
      "****************************************\n",
      "Minimizer is Minuit2 / Migrad\n",
      "Chi2                      =      6.76147\n",
      "NDf                       =           10\n",
      "Edm                       =    7.261e-09\n",
      "NCalls                    =           62\n",
      "p0                        =      494.926   +/-   22.3107     \n",
      "p1                        =       4.9967   +/-   0.0933148   \n"
     ]
    }
   ],
   "source": [
    "fPois2 = ROOT.TF1(\"fPois2\",\"[0]*TMath::PoissonI(x,[1])\",-10.,20.)\n",
    "fPois2.SetParameters(2000.,3.)\n",
    "h1.Fit(\"fPois2\",\"S\",\"E1\")"
   ]
  },
  {
   "cell_type": "code",
   "execution_count": 10,
   "id": "d2bd0622-16ec-4c3a-a312-fcea26d724ad",
   "metadata": {},
   "outputs": [
    {
     "name": "stdout",
     "output_type": "stream",
     "text": [
      "****************************************\n",
      "Minimizer is Minuit2 / Migrad\n",
      "Chi2                      =      3.96917\n",
      "NDf                       =           10\n",
      "Edm                       =  2.63709e-09\n",
      "NCalls                    =          230\n",
      "p0                        =           30                      \t (fixed)\n",
      "p1                        =     0.165775   +/-   0.00323831  \n",
      "p2                        =      495.993   +/-   22.2931     \n"
     ]
    }
   ],
   "source": [
    "fBino = ROOT.TF1(\"fBino\",\"[2]*TMath::Binomial([0],int(x))*TMath::Power([1],int(x))*TMath::Power(1-[1],[0]-int(x))\",-10.,20.)\n",
    "fBino.SetParameters(20.,0.5,10000.)\n",
    "fBino.FixParameter(0,30.)\n",
    "h1.Fit(\"fBino\",\"S\")\n",
    "\n",
    "h1.Draw(\"E\")\n",
    "c1.Update()"
   ]
  },
  {
   "cell_type": "code",
   "execution_count": 11,
   "id": "66b309c2-6238-474e-9814-d5f3fdd54846",
   "metadata": {},
   "outputs": [],
   "source": [
    "bins = [x+0.5 for x in range(13)]\n",
    "binserr = [0] * 13"
   ]
  },
  {
   "cell_type": "code",
   "execution_count": 12,
   "id": "b0494271-49b6-4058-ab91-6f0b617a660a",
   "metadata": {},
   "outputs": [],
   "source": [
    "entries = [h1.GetBinContent(x) for x in range(1,14)]\n",
    "errors = [h1.GetBinError(x) for x in range(1,14)]"
   ]
  },
  {
   "cell_type": "code",
   "execution_count": 13,
   "id": "32a9b789-7251-4513-bfc0-3610a7ca4c34",
   "metadata": {},
   "outputs": [],
   "source": [
    "from array import array\n",
    "\n",
    "binsa = array('f',bins)\n",
    "binserra = array('f',binserr)\n",
    "entriesa = array('f',entries)\n",
    "errorsa = array('f',errors)"
   ]
  },
  {
   "cell_type": "code",
   "execution_count": 14,
   "id": "af4517f9-8e5f-4f7f-836c-aaa20c5b636b",
   "metadata": {},
   "outputs": [],
   "source": [
    "tge = ROOT.TGraphErrors(13,binsa,entriesa,binserra,errorsa)"
   ]
  },
  {
   "cell_type": "code",
   "execution_count": 15,
   "id": "31f331ec-764d-49f4-b8d4-f7607c34636a",
   "metadata": {},
   "outputs": [],
   "source": [
    "c3 = ROOT.TCanvas()\n",
    "tge.Draw(\"ap\")"
   ]
  },
  {
   "cell_type": "code",
   "execution_count": 16,
   "id": "bac3a04a-a910-4e56-81ae-1f107470925b",
   "metadata": {},
   "outputs": [
    {
     "data": {
      "text/plain": [
       "<cppyy.gbl.TFitResultPtr object at 0x5623fafc6960>"
      ]
     },
     "execution_count": 16,
     "metadata": {},
     "output_type": "execute_result"
    },
    {
     "name": "stdout",
     "output_type": "stream",
     "text": [
      "****************************************\n",
      "Minimizer is Minuit2 / Migrad\n",
      "Chi2                      =      4.05344\n",
      "NDf                       =           11\n",
      "Edm                       =  1.68282e-08\n",
      "NCalls                    =           24\n",
      "p0                        =           30                      \t (fixed)\n",
      "p1                        =     0.165884   +/-   0.00322316  \n",
      "p2                        =      496.199   +/-   22.2814     \n"
     ]
    }
   ],
   "source": [
    "tge.Fit(\"fBino\",\"S\")"
   ]
  },
  {
   "cell_type": "code",
   "execution_count": 17,
   "id": "aec789f3-c254-4d53-a471-555ec6a59290",
   "metadata": {
    "scrolled": true
   },
   "outputs": [
    {
     "data": {
      "image/png": "[encoded data removed]",
      "text/plain": [
       "<IPython.core.display.Image object>"
      ]
     },
     "metadata": {},
     "output_type": "display_data"
    }
   ],
   "source": [
    "c3.Update()"
   ]
  },
  {
   "cell_type": "code",
   "execution_count": 18,
   "id": "e3608348-ccda-40a0-8951-493b7cb4d0da",
   "metadata": {},
   "outputs": [],
   "source": [
    "tge.SetMarkerStyle(20)"
   ]
  },
  {
   "cell_type": "code",
   "execution_count": 19,
   "id": "618e912e-6c2c-4970-a3c4-f39dc75f8e3e",
   "metadata": {},
   "outputs": [],
   "source": [
    "tge.SetLineColor(ROOT.kBlue)"
   ]
  },
  {
   "cell_type": "code",
   "execution_count": 20,
   "id": "96b80503-fcf2-435d-9b71-3d5d6a610459",
   "metadata": {},
   "outputs": [],
   "source": [
    "tge.SetMarkerColor(ROOT.kBlue)"
   ]
  },
  {
   "cell_type": "code",
   "execution_count": 21,
   "id": "a908f92d-04ca-4676-95c4-3bb255e7be1a",
   "metadata": {},
   "outputs": [],
   "source": [
    "c3.Update()"
   ]
  },
  {
   "cell_type": "code",
   "execution_count": 22,
   "id": "64180a3e-4cba-4684-b86a-81726b54ad8a",
   "metadata": {},
   "outputs": [],
   "source": [
    "tge.SetTitle(\"Disegno piu' bello\")"
   ]
  },
  {
   "cell_type": "code",
   "execution_count": 23,
   "id": "3c4a7a94-f1c8-46cd-9f1f-53e57e0535ba",
   "metadata": {},
   "outputs": [],
   "source": [
    "c3.Update()"
   ]
  },
  {
   "cell_type": "code",
   "execution_count": 24,
   "id": "5568c931-6969-486a-a12d-5357c4675254",
   "metadata": {},
   "outputs": [],
   "source": [
    "tge.GetXaxis().SetTitle(\"Number of rainy days per month\")\n",
    "tge.GetYaxis().SetTitle(\"Months\")\n",
    "c3.Update()"
   ]
  },
  {
   "cell_type": "code",
   "execution_count": 25,
   "id": "44b88af6-9e70-4a2b-bb7f-10b5cfe18cb3",
   "metadata": {},
   "outputs": [],
   "source": [
    "l = ROOT.TLegend(0.14,0.68,0.4,0.88)"
   ]
  },
  {
   "cell_type": "code",
   "execution_count": 26,
   "id": "6bce51fb-71d7-4a28-8322-1679ac630082",
   "metadata": {},
   "outputs": [],
   "source": [
    "l.AddEntry(tge,\"Data\",\"lp\")\n",
    "l.AddEntry(fBino,\"Binomial fit\",\"l\")\n",
    "l.SetFillColor(ROOT.kWhite)\n",
    "l.Draw('same')"
   ]
  },
  {
   "cell_type": "code",
   "execution_count": 27,
   "id": "3ff9aa25-0d34-4a58-b6c9-59a80ed04a37",
   "metadata": {},
   "outputs": [],
   "source": [
    "c3.Update()"
   ]
  },
  {
   "cell_type": "code",
   "execution_count": null,
   "id": "93f32fed-0e27-4e00-9d80-3270e57cf87c",
   "metadata": {},
   "outputs": [],
   "source": []
  }
 ],
 "metadata": {
  "kernelspec": {
   "display_name": "Python 3 (ipykernel)",
   "language": "python",
   "name": "python3"
  },
  "language_info": {
   "codemirror_mode": {
    "name": "ipython",
    "version": 3
   },
   "file_extension": ".py",
   "mimetype": "text/x-python",
   "name": "python",
   "nbconvert_exporter": "python",
   "pygments_lexer": "ipython3",
   "version": "3.12.8"
  }
 },
 "nbformat": 4,
 "nbformat_minor": 5
}
