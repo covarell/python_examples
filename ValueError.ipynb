{
 "cells": [
  {
   "cell_type": "code",
   "execution_count": 2,
   "id": "644b0f92-54e8-4853-b6ce-9343961b44cd",
   "metadata": {},
   "outputs": [],
   "source": [
    "### Come scrivere correttamente valori e errori\n",
    "\n",
    "def notScient(numero, potenza = -99) :\n",
    "\n",
    "    if (potenza != -99) :\n",
    "        return numero / (10 ** potenza) , potenza\n",
    "    else:\n",
    "        divisore, potenza = 0.,-50\n",
    "        while (divisore < 1. or divisore >= 10.) :\n",
    "            potenza += 1\n",
    "            divisore = numero / (10 ** potenza)\n",
    "            \n",
    "    return divisore, potenza"
   ]
  },
  {
   "cell_type": "code",
   "execution_count": 13,
   "id": "e5416e1b-8f62-43b6-b899-257b048ecdd5",
   "metadata": {},
   "outputs": [],
   "source": [
    "\n",
    "valore = 49800000000000000\n",
    "errore = 3000000000000000"
   ]
  },
  {
   "cell_type": "code",
   "execution_count": 14,
   "id": "96dc6a81-9e7e-4272-b28c-73f5a773358a",
   "metadata": {},
   "outputs": [
    {
     "name": "stdout",
     "output_type": "stream",
     "text": [
      "Valore +/- errore = (50 +/- 3) x 10^15\n"
     ]
    }
   ],
   "source": [
    "divErr, potErr = notScient(errore)\n",
    "\n",
    "if (divErr < 2.) : \n",
    "    potErr -= 1\n",
    "    divErr, potErr = notScient(errore, potErr)\n",
    "    \n",
    "divVal, potErr = notScient(valore, potErr)    \n",
    "\n",
    "# Evitare notazioni ridicole con potenze troppo basse\n",
    "if (abs(potErr) > 2) :\n",
    "    print (f'Valore +/- errore = ({divVal:.0f} +/- {divErr:.0f}) x 10^{potErr}')\n",
    "elif potErr in {0,1,2} :\n",
    "    divVal, divErr = round(divVal) * (10 ** potErr), round(divErr) * (10 ** potErr)\n",
    "    print (f'Valore +/- errore = {divVal} +/- {divErr}')\n",
    "else: \n",
    "    potErr = -potErr\n",
    "    print (f'Valore +/- errore = {valore:.{potErr}f} +/- {errore:.{potErr}f}')\n",
    "    "
   ]
  },
  {
   "cell_type": "code",
   "execution_count": null,
   "id": "ffbaf6fd-f3dd-4c73-80f0-3e1eab30422e",
   "metadata": {},
   "outputs": [],
   "source": []
  }
 ],
 "metadata": {
  "kernelspec": {
   "display_name": "Python 3 (ipykernel)",
   "language": "python",
   "name": "python3"
  },
  "language_info": {
   "codemirror_mode": {
    "name": "ipython",
    "version": 3
   },
   "file_extension": ".py",
   "mimetype": "text/x-python",
   "name": "python",
   "nbconvert_exporter": "python",
   "pygments_lexer": "ipython3",
   "version": "3.12.8"
  }
 },
 "nbformat": 4,
 "nbformat_minor": 5
}
