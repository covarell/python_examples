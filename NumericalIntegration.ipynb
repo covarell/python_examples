{
 "cells": [
  {
   "cell_type": "markdown",
   "id": "35312ffb-b04d-425b-bdfa-da4af6cc967e",
   "metadata": {},
   "source": [
    "## Show some methods to numerically integrate Gaussian, i.e. to show that"
   ]
  },
  {
   "cell_type": "markdown",
   "id": "749854a0-a9b8-4074-8af1-d00d795b158b",
   "metadata": {},
   "source": [
    "$\\int^{+\\infty}_{-\\infty} e^{-x^2} dx = \\sqrt{2\\pi}$"
   ]
  },
  {
   "cell_type": "code",
   "execution_count": 97,
   "id": "4d3d3b0c-60b6-4341-b961-2ab5654dafab",
   "metadata": {},
   "outputs": [],
   "source": [
    "import ROOT"
   ]
  },
  {
   "cell_type": "code",
   "execution_count": 98,
   "id": "0c53a56e-b76c-47f5-ab08-b8fece868a81",
   "metadata": {},
   "outputs": [],
   "source": [
    "lowlim, higlim = -10.,10.\n",
    "f = ROOT.TF1(\"mygaus\",\"gaus\",lowlim,higlim)\n",
    "f.SetParameters(1.,0.,1.)    "
   ]
  },
  {
   "cell_type": "code",
   "execution_count": 99,
   "id": "567443fc-b879-42cb-8a22-4c9ff9068a41",
   "metadata": {},
   "outputs": [],
   "source": [
    "c1 = ROOT.TCanvas()"
   ]
  },
  {
   "cell_type": "code",
   "execution_count": 100,
   "id": "0348b1f4-9077-4df0-9b29-cd33873ef7d3",
   "metadata": {},
   "outputs": [
    {
     "data": {
      "image/png": "[encoded data removed]",
      "text/plain": [
       "<IPython.core.display.Image object>"
      ]
     },
     "metadata": {},
     "output_type": "display_data"
    }
   ],
   "source": [
    "f.SetParameter(2,2.)\n",
    "f.Draw()\n",
    "c1.Draw()"
   ]
  },
  {
   "cell_type": "code",
   "execution_count": 101,
   "id": "b529a115-d22a-4da4-b345-cb5e30e25588",
   "metadata": {},
   "outputs": [],
   "source": [
    "f.SetParameter(2,1.)"
   ]
  },
  {
   "cell_type": "markdown",
   "id": "a1c18426-2c19-46fa-97bf-d0876770e79c",
   "metadata": {},
   "source": [
    "## 1) Trapez method"
   ]
  },
  {
   "cell_type": "code",
   "execution_count": 102,
   "id": "7949318b-7dd7-4734-bc90-76b62ac41882",
   "metadata": {},
   "outputs": [],
   "source": [
    "def trapez(f, lowlim, higlim, ncalls) :\n",
    "    if (lowlim > higlim):\n",
    "        raise Exception('function low limit is larger than high limit')\n",
    "    integral = 0.\n",
    "    height = (higlim - lowlim)/ncalls\n",
    "    for i in range(ncalls-1) :\n",
    "        one_base = f.Eval(lowlim + i * height)\n",
    "        other_base = f.Eval(lowlim + (i+1) * height)\n",
    "        integral += 0.5*(one_base + other_base) * height\n",
    "    return integral"
   ]
  },
  {
   "cell_type": "code",
   "execution_count": 122,
   "id": "d2bd0622-16ec-4c3a-a312-fcea26d724ad",
   "metadata": {},
   "outputs": [],
   "source": [
    "test1 = trapez(f,lowlim,higlim,25)"
   ]
  },
  {
   "cell_type": "code",
   "execution_count": 123,
   "id": "66b309c2-6238-474e-9814-d5f3fdd54846",
   "metadata": {},
   "outputs": [
    {
     "name": "stdout",
     "output_type": "stream",
     "text": [
      "2.506628274630798625111083310912 estimate of 2.506628274631000241612355239340\n"
     ]
    }
   ],
   "source": [
    "true_value = ROOT.TMath.Sqrt(2.*ROOT.TMath.Pi())\n",
    "print (f'{test1:.30f} estimate of {true_value:.30f}')"
   ]
  },
  {
   "cell_type": "markdown",
   "id": "5a3888df-dbc1-43fb-bb05-753491b77d76",
   "metadata": {},
   "source": [
    "## 2) Hit-and-miss method"
   ]
  },
  {
   "cell_type": "code",
   "execution_count": 159,
   "id": "32a9b789-7251-4513-bfc0-3610a7ca4c34",
   "metadata": {},
   "outputs": [],
   "source": [
    "## we need to know the function maximum (1 in this case)\n",
    "tr = ROOT.TRandom3()\n",
    "\n",
    "def hit_and_miss(f, lowlim, higlim, ncalls, fmax=1.) :\n",
    "    if (lowlim > higlim):\n",
    "        raise Exception('function low limit is larger than high limit')\n",
    "    hit = 0\n",
    "    for i in range(ncalls) :\n",
    "        r1,r2 = tr.Uniform(lowlim,higlim), tr.Uniform(0.,fmax)\n",
    "        if (r2 < f.Eval(r1)) :\n",
    "            hit += 1\n",
    "    return (hit / ncalls) * ( higlim - lowlim ) * fmax"
   ]
  },
  {
   "cell_type": "code",
   "execution_count": 160,
   "id": "af4517f9-8e5f-4f7f-836c-aaa20c5b636b",
   "metadata": {},
   "outputs": [],
   "source": [
    "test2 = hit_and_miss(f,lowlim,higlim,1_000_000)"
   ]
  },
  {
   "cell_type": "code",
   "execution_count": 161,
   "id": "31f331ec-764d-49f4-b8d4-f7607c34636a",
   "metadata": {},
   "outputs": [
    {
     "name": "stdout",
     "output_type": "stream",
     "text": [
      "2.508280000000000065085714595625 estimate of 2.506628274631000241612355239340\n"
     ]
    }
   ],
   "source": [
    "print (f'{test2:.30f} estimate of {true_value:.30f}')"
   ]
  },
  {
   "cell_type": "code",
   "execution_count": 127,
   "id": "49ee9338-c177-44c9-9c55-ceeb3b85b1bf",
   "metadata": {},
   "outputs": [],
   "source": [
    "from array import array"
   ]
  },
  {
   "cell_type": "code",
   "execution_count": 128,
   "id": "010c6208-6cf8-4bf3-aee2-dc9ed6609161",
   "metadata": {},
   "outputs": [],
   "source": [
    "ncalls1 = array('f')"
   ]
  },
  {
   "cell_type": "code",
   "execution_count": 129,
   "id": "4d0a9e7c-fa01-4271-9aa0-0bb6c5de6e01",
   "metadata": {},
   "outputs": [],
   "source": [
    "ncalls2 = array('f')"
   ]
  },
  {
   "cell_type": "code",
   "execution_count": 130,
   "id": "078ce319-038c-4c35-a773-69073135586e",
   "metadata": {},
   "outputs": [],
   "source": [
    "delta1, delta2 = array('f'), array('f')"
   ]
  },
  {
   "cell_type": "code",
   "execution_count": 131,
   "id": "383d588f-8b6b-4588-9ccc-975e1e41f0fa",
   "metadata": {},
   "outputs": [
    {
     "name": "stdout",
     "output_type": "stream",
     "text": [
      "100 calls: 2.506628274630999797523145389277 differs from true by -4.440892098500626e-16\n",
      "5 calls: 1.082682357272780171442150276562 differs from true by -1.42394591735822\n",
      "40 calls: 2.506628274631001573879984789528 differs from true by 1.3322676295501878e-15\n",
      "10 calls: 2.542683044378018397679852569127 differs from true by 0.036054769747018156\n",
      "50 calls: 2.506628274631000685701565089403 differs from true by 4.440892098500626e-16\n",
      "20 calls: 2.506628288042905605692567405640 differs from true by 1.3411905364080212e-08\n",
      "30 calls: 2.506628274630999797523145389277 differs from true by -4.440892098500626e-16\n"
     ]
    }
   ],
   "source": [
    "for icall in {5,10,20,30,40,50,100} :\n",
    "    test = trapez(f,lowlim,higlim,icall)\n",
    "    delta = test - true_value\n",
    "    print(f'{icall} calls: {test:.30f} differs from true by {delta}')\n",
    "    ncalls1.append(icall)\n",
    "    delta1.append(abs(delta))"
   ]
  },
  {
   "cell_type": "code",
   "execution_count": 132,
   "id": "59da8342-4081-4cf1-a691-0bb1e6eff8e7",
   "metadata": {},
   "outputs": [
    {
     "name": "stdout",
     "output_type": "stream",
     "text": [
      "100000 calls: 2.534399999999999764099811727647 differs from true by 0.027771725368999522\n",
      "500000 calls: 2.497360000000000024300561562995 differs from true by -0.009268274631000217\n",
      "1000000 calls: 2.499519999999999964046537570539 differs from true by -0.0071082746310002776\n",
      "5000000 calls: 2.505220000000000446505055151647 differs from true by -0.001408274630999795\n",
      "100 calls: 2.800000000000000266453525910038 differs from true by 0.293371725369\n",
      "1000 calls: 2.220000000000000195399252334028 differs from true by -0.28662827463100005\n",
      "10000 calls: 2.520000000000000017763568394003 differs from true by 0.013371725368999776\n",
      "50000 calls: 2.479200000000000070343730840250 differs from true by -0.02742827463100017\n"
     ]
    }
   ],
   "source": [
    "for icall in {100,1000,10000,50000,100000,500000,1000000,5000000} :\n",
    "    test = hit_and_miss(f,lowlim,higlim,icall)\n",
    "    delta = test - true_value\n",
    "    print(f'{icall} calls: {test:.30f} differs from true by {delta}')\n",
    "    ncalls2.append(icall)\n",
    "    delta2.append(abs(delta))"
   ]
  },
  {
   "cell_type": "code",
   "execution_count": 133,
   "id": "5d850a3d-a12f-4d96-a276-7bd20343220c",
   "metadata": {},
   "outputs": [],
   "source": [
    "c1 = ROOT.TCanvas()"
   ]
  },
  {
   "cell_type": "code",
   "execution_count": 134,
   "id": "9541a2f8-5105-4d5b-9e40-4ac3a6c58b6b",
   "metadata": {},
   "outputs": [],
   "source": [
    "ncalls1.append(100000000); delta1.append(-0.001)\n",
    "g1 = ROOT.TGraph(len(ncalls1),ncalls1,delta1)"
   ]
  },
  {
   "cell_type": "code",
   "execution_count": 135,
   "id": "bd3a3792-3dd7-45e1-929a-751582d77bc0",
   "metadata": {},
   "outputs": [
    {
     "data": {
      "image/png": "[encoded data removed]",
      "text/plain": [
       "<IPython.core.display.Image object>"
      ]
     },
     "metadata": {},
     "output_type": "display_data"
    }
   ],
   "source": [
    "g1.SetMarkerStyle(20); g1.SetMarkerColor(ROOT.kBlue); g1.Draw(\"AP\"); c1.Draw()"
   ]
  },
  {
   "cell_type": "code",
   "execution_count": 136,
   "id": "7f373d8a-2964-4d82-b0c9-7a980076e761",
   "metadata": {},
   "outputs": [],
   "source": [
    "ROOT.gPad.SetLogx()"
   ]
  },
  {
   "cell_type": "code",
   "execution_count": 137,
   "id": "a700a3ad-5502-4319-b991-de1ae65bf300",
   "metadata": {},
   "outputs": [],
   "source": [
    "ROOT.gPad.SetLogy()"
   ]
  },
  {
   "cell_type": "code",
   "execution_count": 138,
   "id": "5e941b05-68d5-4704-8a43-de78824c7627",
   "metadata": {},
   "outputs": [
    {
     "data": {
      "image/png": "[encoded data removed]",
      "text/plain": [
       "<IPython.core.display.Image object>"
      ]
     },
     "metadata": {},
     "output_type": "display_data"
    }
   ],
   "source": [
    "c1.Draw()"
   ]
  },
  {
   "cell_type": "code",
   "execution_count": 140,
   "id": "9d0abe96-8210-4792-a55d-0962bb7f04bc",
   "metadata": {},
   "outputs": [
    {
     "data": {
      "image/png": "[encoded data removed]",
      "text/plain": [
       "<IPython.core.display.Image object>"
      ]
     },
     "metadata": {},
     "output_type": "display_data"
    }
   ],
   "source": [
    "g1.SetMinimum(1E-18); g1.SetMaximum(2.5)\n",
    "\n",
    "g1.Draw(\"AP\"); c1.Draw()"
   ]
  },
  {
   "cell_type": "code",
   "execution_count": null,
   "id": "2b143e20-b03f-4e2d-95c9-0b6e4385f4f3",
   "metadata": {},
   "outputs": [],
   "source": [
    "g2 = ROOT.TGraph(len(ncalls2),ncalls2,delta2)\n",
    "\n",
    "g2.SetMarkerStyle(21); g2.SetMarkerColor(ROOT.kRed); g2.Draw(\"Psame\"); c1.Draw()"
   ]
  },
  {
   "cell_type": "code",
   "execution_count": 143,
   "id": "6db57a54-a0b7-4485-8075-d6892eb17f66",
   "metadata": {},
   "outputs": [],
   "source": [
    "g1.SetTitle(\"Algorithm convergence\")\n",
    "g1.GetXaxis().SetTitle(\"Number of calls\")\n",
    "g1.GetYaxis().SetTitle(\"#Delta integral\")"
   ]
  },
  {
   "cell_type": "code",
   "execution_count": 144,
   "id": "972472da-83c7-412a-9f3e-bdfa88659394",
   "metadata": {},
   "outputs": [],
   "source": [
    "c1.Update()"
   ]
  },
  {
   "cell_type": "code",
   "execution_count": 149,
   "id": "1cba53fe-403c-44bb-ad0d-74b7a68af4d4",
   "metadata": {},
   "outputs": [],
   "source": [
    "l = ROOT.TLegend(0.6,0.2,0.8,0.3)"
   ]
  },
  {
   "cell_type": "code",
   "execution_count": 150,
   "id": "9ddf4eb2-1bdd-4695-bb8f-06d7880a33ee",
   "metadata": {},
   "outputs": [
    {
     "data": {
      "text/plain": [
       "<cppyy.gbl.TLegendEntry object at 0x563140346320>"
      ]
     },
     "execution_count": 150,
     "metadata": {},
     "output_type": "execute_result"
    }
   ],
   "source": [
    "l.AddEntry(g1,\"Trapezoid\"); l.AddEntry(g2,\"Hit and miss\")"
   ]
  },
  {
   "cell_type": "code",
   "execution_count": 151,
   "id": "5c0425ae-0ace-46cd-bfd7-d48d4610acf9",
   "metadata": {},
   "outputs": [],
   "source": [
    "l.Draw(\"same\")"
   ]
  },
  {
   "cell_type": "code",
   "execution_count": 152,
   "id": "2f0d986d-242c-4142-862c-0f734358e9e1",
   "metadata": {},
   "outputs": [],
   "source": [
    "c1.Update()"
   ]
  },
  {
   "cell_type": "code",
   "execution_count": 164,
   "id": "7d4c1bcb-5d0c-4b5c-bba0-b3b17b9db41b",
   "metadata": {},
   "outputs": [],
   "source": [
    "## we need to know the function maximum (1 in this case) and the monotony (crescent for x < 0, decrescent for x > 0)\n",
    "\n",
    "def hit_and_miss_trapez(f, lowlim, higlim, ncalls, nbins) :  # notice TWO call parameters now\n",
    "    if (lowlim > higlim):\n",
    "        raise Exception('function low limit is larger than high limit')\n",
    "    integral = 0.\n",
    "    height = (higlim - lowlim)/nbins\n",
    "    for i in range(nbins-1) :                 # divide in trapezes and apply hit-and-miss inside each\n",
    "        binlim_sx = lowlim + i * height;   binlim_dx = lowlim + (i+1) * height\n",
    "        if (binlim_sx >= 0) :\n",
    "            fmax = f.Eval(binlim_sx) \n",
    "        else :\n",
    "            fmax = f.Eval(binlim_dx)\n",
    "        integral += hit_and_miss(f,binlim_sx,binlim_dx,ncalls // nbins,fmax)\n",
    "    return integral"
   ]
  },
  {
   "cell_type": "code",
   "execution_count": 165,
   "id": "257444cf-4e48-4933-96c2-5a0a940d4972",
   "metadata": {},
   "outputs": [],
   "source": [
    "ncalls3 = array('f'); delta3 = array('f')"
   ]
  },
  {
   "cell_type": "code",
   "execution_count": 166,
   "id": "7e468064-af82-42ff-8825-b2d8dcffc0fa",
   "metadata": {},
   "outputs": [
    {
     "name": "stdout",
     "output_type": "stream",
     "text": [
      "100000 calls: 2.516080981483120648789508777554 differs from true by 0.009452706852120407\n",
      "500000 calls: 2.501521623307351394061015525949 differs from true by -0.0051066513236488476\n",
      "1000000 calls: 2.508592631523497207268746933551 differs from true by 0.0019643568924969657\n",
      "5000000 calls: 2.504466724444640135516237933189 differs from true by -0.002161550186360106\n",
      "100 calls: 2.852078049407211324250965844840 differs from true by 0.3454497747762111\n",
      "1000 calls: 2.481590735535500691355537128402 differs from true by -0.02503753909549955\n",
      "10000 calls: 2.505674292645023282233296413324 differs from true by -0.0009539819859769594\n",
      "50000 calls: 2.500566347992797311405865912093 differs from true by -0.00606192663820293\n"
     ]
    }
   ],
   "source": [
    "for icall in {100,1000,10000,50000,100000,500000,1000000,5000000} :\n",
    "    test = hit_and_miss_trapez(f,lowlim,higlim,icall,20)\n",
    "    delta = test - true_value\n",
    "    print(f'{icall} calls: {test:.30f} differs from true by {delta}')\n",
    "    ncalls3.append(icall)\n",
    "    delta3.append(abs(delta))"
   ]
  },
  {
   "cell_type": "code",
   "execution_count": 167,
   "id": "e643870a-5491-4a9a-b49d-0305b23613d6",
   "metadata": {},
   "outputs": [],
   "source": [
    "g3 = ROOT.TGraph(len(ncalls3),ncalls3,delta3)\n",
    "\n",
    "g3.SetMarkerStyle(22); g3.SetMarkerColor(ROOT.kGreen); g3.Draw(\"Psame\"); c1.Update()"
   ]
  },
  {
   "cell_type": "code",
   "execution_count": 168,
   "id": "75278972-c5bf-4198-84b3-9f0e7cabc82c",
   "metadata": {},
   "outputs": [
    {
     "data": {
      "image/png": "[encoded data removed]",
      "text/plain": [
       "<IPython.core.display.Image object>"
      ]
     },
     "metadata": {},
     "output_type": "display_data"
    }
   ],
   "source": [
    "c1.Draw()"
   ]
  },
  {
   "cell_type": "code",
   "execution_count": 169,
   "id": "20b824f8-bda8-4d44-aaa1-ee461be7189a",
   "metadata": {},
   "outputs": [
    {
     "data": {
      "text/plain": [
       "<cppyy.gbl.TLegendEntry object at 0x56313fee1010>"
      ]
     },
     "execution_count": 169,
     "metadata": {},
     "output_type": "execute_result"
    }
   ],
   "source": [
    "l.AddEntry(g3,\"Combined\")"
   ]
  },
  {
   "cell_type": "code",
   "execution_count": 170,
   "id": "518b555a-ff8b-44bc-a0af-7e5735697861",
   "metadata": {},
   "outputs": [],
   "source": [
    "l.Draw(\"same\")"
   ]
  },
  {
   "cell_type": "code",
   "execution_count": 171,
   "id": "ca3b5bef-20d6-486c-9575-54486749464e",
   "metadata": {},
   "outputs": [],
   "source": [
    "c1.Update()"
   ]
  },
  {
   "cell_type": "code",
   "execution_count": null,
   "id": "e3e1fa47-9fc8-4c67-9a7d-532bea6e1444",
   "metadata": {},
   "outputs": [],
   "source": []
  }
 ],
 "metadata": {
  "kernelspec": {
   "display_name": "Python 3 (ipykernel)",
   "language": "python",
   "name": "python3"
  },
  "language_info": {
   "codemirror_mode": {
    "name": "ipython",
    "version": 3
   },
   "file_extension": ".py",
   "mimetype": "text/x-python",
   "name": "python",
   "nbconvert_exporter": "python",
   "pygments_lexer": "ipython3",
   "version": "3.12.8"
  }
 },
 "nbformat": 4,
 "nbformat_minor": 5
}
