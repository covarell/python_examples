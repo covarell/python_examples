{
 "cells": [
  {
   "cell_type": "markdown",
   "id": "35312ffb-b04d-425b-bdfa-da4af6cc967e",
   "metadata": {},
   "source": [
    "## Show some methods to numerically integrate Gaussian, i.e. to show that"
   ]
  },
  {
   "cell_type": "markdown",
   "id": "749854a0-a9b8-4074-8af1-d00d795b158b",
   "metadata": {},
   "source": [
    "$\\int^{+\\infty}_{-\\infty} e^{-x^2} dx = \\sqrt{2\\pi}$"
   ]
  },
  {
   "cell_type": "code",
   "execution_count": 29,
   "id": "4d3d3b0c-60b6-4341-b961-2ab5654dafab",
   "metadata": {},
   "outputs": [],
   "source": [
    "import ROOT"
   ]
  },
  {
   "cell_type": "code",
   "execution_count": 31,
   "id": "0c53a56e-b76c-47f5-ab08-b8fece868a81",
   "metadata": {},
   "outputs": [],
   "source": [
    "lowlim, higlim = -30.,30.\n",
    "f = ROOT.TF1(\"mygaus\",\"gaus\",lowlim,higlim)\n",
    "f.SetParameters(1.,0.,1.)    "
   ]
  },
  {
   "cell_type": "code",
   "execution_count": 32,
   "id": "567443fc-b879-42cb-8a22-4c9ff9068a41",
   "metadata": {},
   "outputs": [],
   "source": [
    "c1 = ROOT.TCanvas()"
   ]
  },
  {
   "cell_type": "code",
   "execution_count": 34,
   "id": "0348b1f4-9077-4df0-9b29-cd33873ef7d3",
   "metadata": {},
   "outputs": [
    {
     "data": {
      "image/png": "[encoded data removed]",
      "text/plain": [
       "<IPython.core.display.Image object>"
      ]
     },
     "metadata": {},
     "output_type": "display_data"
    }
   ],
   "source": [
    "f.SetParameter(2,5.)\n",
    "f.Draw()\n",
    "c1.Draw()"
   ]
  },
  {
   "cell_type": "code",
   "execution_count": 35,
   "id": "b529a115-d22a-4da4-b345-cb5e30e25588",
   "metadata": {},
   "outputs": [],
   "source": [
    "f.SetParameter(2,1.)"
   ]
  },
  {
   "cell_type": "markdown",
   "id": "a1c18426-2c19-46fa-97bf-d0876770e79c",
   "metadata": {},
   "source": [
    "## 1) Trapez method"
   ]
  },
  {
   "cell_type": "code",
   "execution_count": 57,
   "id": "7949318b-7dd7-4734-bc90-76b62ac41882",
   "metadata": {},
   "outputs": [],
   "source": [
    "def trapez(f, lowlim, higlim, ncalls) :\n",
    "    if (lowlim > higlim):\n",
    "        raise Exception('function low limit is larger than high limit')\n",
    "    integral = 0.\n",
    "    height = (higlim - lowlim)/ncalls\n",
    "    for i in range(ncalls-1) :\n",
    "        one_base = f.Eval(lowlim + i * height)\n",
    "        other_base = f.Eval(lowlim + (i+1) * height)\n",
    "        integral += 0.5*(one_base + other_base) * height\n",
    "    return integral"
   ]
  },
  {
   "cell_type": "code",
   "execution_count": 58,
   "id": "d2bd0622-16ec-4c3a-a312-fcea26d724ad",
   "metadata": {},
   "outputs": [],
   "source": [
    "test1 = trapez(f,lowlim,higlim,50000)"
   ]
  },
  {
   "cell_type": "code",
   "execution_count": 59,
   "id": "66b309c2-6238-474e-9814-d5f3fdd54846",
   "metadata": {},
   "outputs": [
    {
     "name": "stdout",
     "output_type": "stream",
     "text": [
      "2.506628274630991803917368088150 estimate of 2.506628274631000241612355239340\n"
     ]
    }
   ],
   "source": [
    "true_value = ROOT.TMath.Sqrt(2.*ROOT.TMath.Pi())\n",
    "print (f'{test1:.30f} estimate of {true_value:.30f}')"
   ]
  },
  {
   "cell_type": "markdown",
   "id": "5a3888df-dbc1-43fb-bb05-753491b77d76",
   "metadata": {},
   "source": [
    "## 2) Hit-and-miss method"
   ]
  },
  {
   "cell_type": "code",
   "execution_count": 65,
   "id": "32a9b789-7251-4513-bfc0-3610a7ca4c34",
   "metadata": {},
   "outputs": [],
   "source": [
    "## we need to know the function maximum (1 in this case)\n",
    "fmax = 1.\n",
    "tr = ROOT.TRandom3()\n",
    "\n",
    "def hit_and_miss (f, lowlim, higlim, ncalls) :\n",
    "    if (lowlim > higlim):\n",
    "        raise Exception('function low limit is larger than high limit')\n",
    "    hit = 0\n",
    "    for i in range(ncalls) :\n",
    "        r1,r2 = tr.Uniform(lowlim,higlim), tr.Uniform(0.,fmax)\n",
    "        if (r2 < f.Eval(r1)) :\n",
    "            hit += 1\n",
    "    return (hit / ncalls) * ( highlim - lowlim ) * fmax"
   ]
  },
  {
   "cell_type": "code",
   "execution_count": 74,
   "id": "af4517f9-8e5f-4f7f-836c-aaa20c5b636b",
   "metadata": {},
   "outputs": [],
   "source": [
    "test2 = hit_and_miss(f,lowlim,higlim,10_000_000)"
   ]
  },
  {
   "cell_type": "code",
   "execution_count": 75,
   "id": "31f331ec-764d-49f4-b8d4-f7607c34636a",
   "metadata": {},
   "outputs": [
    {
     "name": "stdout",
     "output_type": "stream",
     "text": [
      "2.506140000000000256363819062244 estimate of 2.506628274631000241612355239340\n"
     ]
    }
   ],
   "source": [
    "print (f'{test2:.30f} estimate of {true_value:.30f}')"
   ]
  }
 ],
 "metadata": {
  "kernelspec": {
   "display_name": "Python 3 (ipykernel)",
   "language": "python",
   "name": "python3"
  },
  "language_info": {
   "codemirror_mode": {
    "name": "ipython",
    "version": 3
   },
   "file_extension": ".py",
   "mimetype": "text/x-python",
   "name": "python",
   "nbconvert_exporter": "python",
   "pygments_lexer": "ipython3",
   "version": "3.12.8"
  }
 },
 "nbformat": 4,
 "nbformat_minor": 5
}
