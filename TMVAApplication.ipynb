{
 "cells": [
  {
   "cell_type": "code",
   "execution_count": 1,
   "id": "1b7a1f5d-96e6-4925-a1ff-c3312636f77a",
   "metadata": {},
   "outputs": [],
   "source": [
    "import ROOT"
   ]
  },
  {
   "cell_type": "code",
   "execution_count": 2,
   "id": "4b384fae-5978-4dc4-9ea5-7ad9f4ea27b2",
   "metadata": {},
   "outputs": [],
   "source": [
    "c1 = ROOT.TCanvas()"
   ]
  },
  {
   "cell_type": "code",
   "execution_count": 3,
   "id": "4d3d3b0c-60b6-4341-b961-2ab5654dafab",
   "metadata": {},
   "outputs": [],
   "source": [
    "ROOT.TMVA.Tools.Instance()\n",
    "ROOT.TMVA.PyMethodBase.PyInitialize()\n",
    "reader = ROOT.TMVA.Reader(\"Color:!Silent\")"
   ]
  },
  {
   "cell_type": "code",
   "execution_count": 4,
   "id": "51c64eae-1028-491a-80c2-3f1024614057",
   "metadata": {},
   "outputs": [],
   "source": [
    "data = ROOT.TFile.Open('flixnet.root')\n",
    "sig_tree = data.Get('sig_tree')"
   ]
  },
  {
   "cell_type": "code",
   "execution_count": 5,
   "id": "298e51fc-dcf8-4cec-8b47-3a9cb5c91422",
   "metadata": {},
   "outputs": [
    {
     "name": "stdout",
     "output_type": "stream",
     "text": [
      "{'comed': array('f', [-999.0]), 'drama': array('f', [-999.0]), 'epifa': array('f', [-999.0]), 'eroti': array('f', [-999.0]), 'myste': array('f', [-999.0]), 'roman': array('f', [-999.0]), 'thril': array('f', [-999.0])}\n"
     ]
    }
   ],
   "source": [
    "from array import array\n",
    "\n",
    "branches = {}\n",
    "for branch in sig_tree.GetListOfBranches():\n",
    "    branchName = branch.GetName()\n",
    "    branches[branchName] = array('f', [-999])\n",
    "    reader.AddVariable(branchName, branches[branchName])\n",
    "    \n",
    "print (branches)"
   ]
  },
  {
   "cell_type": "code",
   "execution_count": 6,
   "id": "8478f7bc-7a32-4872-b77e-7d3d61879d1a",
   "metadata": {},
   "outputs": [
    {
     "name": "stdout",
     "output_type": "stream",
     "text": [
      "                         : Booking \"LikelihoodD\" of type \"Likelihood\" from dataset/weights/Flixnet_Classification_LikelihoodD.weights.xml.\n",
      "                         : Reading weight file: \u001b[0;36mdataset/weights/Flixnet_Classification_LikelihoodD.weights.xml\u001b[0m\n",
      "DataSetInfo              : [Default] : Added class \"Signal\"\n",
      "DataSetInfo              : [Default] : Added class \"Background\"\n",
      "                         : Booked classifier \"LikelihoodD\" of type: \"Likelihood\"\n",
      "                         : Booking \"Fisher\" of type \"Fisher\" from dataset/weights/Flixnet_Classification_Fisher.weights.xml.\n",
      "                         : Reading weight file: \u001b[0;36mdataset/weights/Flixnet_Classification_Fisher.weights.xml\u001b[0m\n",
      "                         : Booked classifier \"Fisher\" of type: \"Fisher\"\n",
      "                         : Booking \"MLP\" of type \"MLP\" from dataset/weights/Flixnet_Classification_MLP.weights.xml.\n",
      "                         : Reading weight file: \u001b[0;36mdataset/weights/Flixnet_Classification_MLP.weights.xml\u001b[0m\n",
      "MLP                      : Building Network. \n",
      "                         : Initializing weights\n",
      "                         : Booked classifier \"MLP\" of type: \"MLP\"\n"
     ]
    }
   ],
   "source": [
    "for imeth in {'Fisher','LikelihoodD','MLP'} :\n",
    "     reader.BookMVA( imeth, 'dataset/weights/Flixnet_Classification_'+imeth+'.weights.xml' )"
   ]
  },
  {
   "cell_type": "code",
   "execution_count": 15,
   "id": "01c2aeff-3f8d-47ea-a393-0ee77ef9315c",
   "metadata": {},
   "outputs": [],
   "source": [
    "iline = 0\n",
    "dictFisher, dictLD, dictMLP = {} , {} , {} \n",
    "with open('../my_python_examples/new.csv') as newseries :\n",
    "    for aseries_line in newseries.readlines() :\n",
    "        iline += 1\n",
    "        aseries = aseries_line.strip().split(',')\n",
    "        if (iline > 1):\n",
    "            for branch, value in zip(sig_tree.GetListOfBranches(),range(1,8)) :\n",
    "                branches[branch.GetName()][0] = float(aseries[value])\n",
    "            #    print (branch.GetName(),float(aseries[value]))\n",
    "            score = reader.EvaluateMVA(\"Fisher\");  dictFisher[aseries[0]]=score\n",
    "            score = reader.EvaluateMVA(\"LikelihoodD\");  dictLD[aseries[0]]=score\n",
    "            score = reader.EvaluateMVA(\"MLP\");  dictMLP[aseries[0]]=score\n",
    "            "
   ]
  },
  {
   "cell_type": "code",
   "execution_count": 16,
   "id": "f3c335ee-7697-4390-9b8d-a012eab704a0",
   "metadata": {},
   "outputs": [
    {
     "data": {
      "text/plain": [
       "{\"'Amore sulla Via della Seta'\": -0.046261893156460246,\n",
       " \"'Rippers - gli sbudellatori'\": -0.004104664170839057,\n",
       " \"'Gli elfi di Rohnblad'\": -0.041312706147319994,\n",
       " \"'Crazy varsity'\": -0.09967079529868975,\n",
       " \"'Le inchieste del commissario De Polizis'\": 0.016326473933776963,\n",
       " \"'Black Tiger'\": -0.048121317217037114,\n",
       " \"'The mind - il genio'\": -0.1524746322898177}"
      ]
     },
     "execution_count": 16,
     "metadata": {},
     "output_type": "execute_result"
    }
   ],
   "source": [
    "dictLD"
   ]
  },
  {
   "cell_type": "code",
   "execution_count": 17,
   "id": "57e05584-53a5-4c97-a475-7510f1604f41",
   "metadata": {},
   "outputs": [
    {
     "name": "stdout",
     "output_type": "stream",
     "text": [
      "'The mind - il genio' : 0.9337\n",
      "'Le inchieste del commissario De Polizis' : 0.3661\n",
      "'Rippers - gli sbudellatori' : 0.1401\n",
      "'Amore sulla Via della Seta' : 0.0625\n",
      "'Black Tiger' : -0.0641\n",
      "'Gli elfi di Rohnblad' : -0.1029\n",
      "'Crazy varsity' : -0.1316\n"
     ]
    }
   ],
   "source": [
    "sorted_Fisher = sorted(dictFisher.items(), key=lambda kv: kv[1],reverse=True)\n",
    "\n",
    "for x,y in sorted_Fisher :\n",
    "    print (f'{x:>12} : {y:.4f}') "
   ]
  },
  {
   "cell_type": "code",
   "execution_count": 18,
   "id": "4034da51-dc7a-43d0-a334-db0f3c8b135b",
   "metadata": {},
   "outputs": [
    {
     "name": "stdout",
     "output_type": "stream",
     "text": [
      "'Le inchieste del commissario De Polizis' : 0.0163\n",
      "'Rippers - gli sbudellatori' : -0.0041\n",
      "'Gli elfi di Rohnblad' : -0.0413\n",
      "'Amore sulla Via della Seta' : -0.0463\n",
      "'Black Tiger' : -0.0481\n",
      "'Crazy varsity' : -0.0997\n",
      "'The mind - il genio' : -0.1525\n"
     ]
    }
   ],
   "source": [
    "sorted_LD = sorted(dictLD.items(), key=lambda kv: kv[1],reverse=True)\n",
    "\n",
    "for x,y in sorted_LD :\n",
    "    print (f'{x:>12} : {y:.4f}') "
   ]
  },
  {
   "cell_type": "code",
   "execution_count": 19,
   "id": "21b33af3-c83c-436a-86f0-aac1f9535d67",
   "metadata": {},
   "outputs": [
    {
     "name": "stdout",
     "output_type": "stream",
     "text": [
      "'The mind - il genio' : 0.9510\n",
      "'Rippers - gli sbudellatori' : 0.9325\n",
      "'Amore sulla Via della Seta' : 0.8094\n",
      "'Crazy varsity' : 0.5029\n",
      "'Black Tiger' : 0.3864\n",
      "'Le inchieste del commissario De Polizis' : 0.1424\n",
      "'Gli elfi di Rohnblad' : 0.0011\n"
     ]
    }
   ],
   "source": [
    "sorted_MLP = sorted(dictMLP.items(), key=lambda kv: kv[1],reverse=True)\n",
    "\n",
    "for x,y in sorted_MLP :\n",
    "    print (f'{x:>12} : {y:.4f}') "
   ]
  },
  {
   "cell_type": "code",
   "execution_count": null,
   "id": "a3f36484-a9ff-4650-8dfc-13993a160146",
   "metadata": {},
   "outputs": [],
   "source": []
  }
 ],
 "metadata": {
  "kernelspec": {
   "display_name": "Python 3 (ipykernel)",
   "language": "python",
   "name": "python3"
  },
  "language_info": {
   "codemirror_mode": {
    "name": "ipython",
    "version": 3
   },
   "file_extension": ".py",
   "mimetype": "text/x-python",
   "name": "python",
   "nbconvert_exporter": "python",
   "pygments_lexer": "ipython3",
   "version": "3.12.8"
  }
 },
 "nbformat": 4,
 "nbformat_minor": 5
}
