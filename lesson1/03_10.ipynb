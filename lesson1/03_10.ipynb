{
 "cells": [
  {
   "cell_type": "markdown",
   "metadata": {},
   "source": [
    "# Introduction to Formatted Strings\n",
    "* An **f-string** (short for formatted string) allows inserting values into a string.\n",
    "* The letter f before the string’s opening quote indicates it’s an f-string. \n",
    "* You specify where to insert values by using placeholders delimited by curly braces ({ and }). \n",
    "* `{average}` converts the variable average’s value to a string representation, then replaces `{average}` with that **replacement text**. \n",
    "* Replacement-text expressions may contain values, variables or other expressions.\n",
    "* Statements after \":\" may contain **format specifications** (e.g. number of decimal digits to be shown)"
   ]
  },
  {
   "cell_type": "code",
   "execution_count": 6,
   "metadata": {},
   "outputs": [
    {
     "name": "stdout",
     "output_type": "stream",
     "text": [
      "Average is 26.333333333333332\n",
      "Average is 26.3\n"
     ]
    }
   ],
   "source": [
    "# Average program with three numbers\n",
    "\n",
    "a, b, c = 27, 28, 24\n",
    "\n",
    "average = (a + b + c) / 3\n",
    "print(f'Average is {average}')\n",
    "print(f'Average is {average:.1f}')"
   ]
  },
  {
   "cell_type": "markdown",
   "metadata": {},
   "source": [
    "------\n",
    "&copy;1992&ndash;2020 by Pearson Education, Inc. All Rights Reserved. This content is based on Chapter 3 of the book [**Intro to Python for Computer Science and Data Science: Learning to Program with AI, Big Data and the Cloud**](https://amzn.to/2VvdnxE).\n",
    "\n",
    "DISCLAIMER: The authors and publisher of this book have used their \n",
    "best efforts in preparing the book. These efforts include the \n",
    "development, research, and testing of the theories and programs \n",
    "to determine their effectiveness. The authors and publisher make \n",
    "no warranty of any kind, expressed or implied, with regard to these \n",
    "programs or to the documentation contained in these books. The authors \n",
    "and publisher shall not be liable in any event for incidental or \n",
    "consequential damages in connection with, or arising out of, the \n",
    "furnishing, performance, or use of these programs.                  "
   ]
  }
 ],
 "metadata": {
  "kernelspec": {
   "display_name": "Python 3 (ipykernel)",
   "language": "python",
   "name": "python3"
  },
  "language_info": {
   "codemirror_mode": {
    "name": "ipython",
    "version": 3
   },
   "file_extension": ".py",
   "mimetype": "text/x-python",
   "name": "python",
   "nbconvert_exporter": "python",
   "pygments_lexer": "ipython3",
   "version": "3.12.7"
  }
 },
 "nbformat": 4,
 "nbformat_minor": 4
}
