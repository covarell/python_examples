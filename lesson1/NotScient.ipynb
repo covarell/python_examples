{
 "cells": [
  {
   "cell_type": "markdown",
   "id": "af0d29cf-3897-42f4-b586-a61616718884",
   "metadata": {},
   "source": [
    "### Numeri in notazione scientifica"
   ]
  },
  {
   "cell_type": "code",
   "execution_count": 4,
   "id": "8064c5a7-e514-45c5-a1c5-08f0acbd10b5",
   "metadata": {},
   "outputs": [],
   "source": [
    "numero = 456921.\n",
    "potenza = 0\n",
    "\n",
    "# valori_input = (456921., 0)\n",
    "# numero, potenza = valori_input"
   ]
  },
  {
   "cell_type": "markdown",
   "id": "fc87e9df-6d8f-4d83-933c-36a9adf23363",
   "metadata": {},
   "source": [
    "In questa semplice **fase di assegnazione delle variabili**, vediamo alcune nozioni preliminari:\n",
    "* [Assegnazione di variabili](02_02.ipynb)\n",
    "* [Tipizzazione dinamica](02_08.ipynb)\n",
    "* [Il concetto di \"tupla\"](05_03.ipynb)\n",
    "* [Impacchettare e spacchettare](05_04.ipynb)"
   ]
  },
  {
   "cell_type": "code",
   "execution_count": 5,
   "id": "1177de12-43d7-4925-99b7-77a5f0955e56",
   "metadata": {},
   "outputs": [
    {
     "name": "stdout",
     "output_type": "stream",
     "text": [
      "notazione scientifica = 4.57 x 10^5\n"
     ]
    }
   ],
   "source": [
    "while (numero < 1.) :\n",
    "    potenza -= 1 ;   numero *= 10. \n",
    "while (numero >= 10.) :\n",
    "    potenza += 1 ;   numero /= 10.\n",
    "    \n",
    "print (f'notazione scientifica = {numero:.2f} x 10^{potenza}')"
   ]
  },
  {
   "cell_type": "markdown",
   "id": "3f91d99d-3e2b-490a-b03b-085cba8cb98b",
   "metadata": {},
   "source": [
    "Nella **fase algoritmica** impareremo/ripasseremo:\n",
    "* [L'istruzione *while*](03_07.ipynb) \n",
    "* [Ripasso di aritmetica](02_03.ipynb)\n",
    "* [Assegnazione con incremento](03_09.ipynb)\n",
    "* [La scrittura a schermo](02_04.ipynb)\n",
    "* [Formattazione di stringhe a schermo](03_10.ipynb)"
   ]
  }
 ],
 "metadata": {
  "kernelspec": {
   "display_name": "Python 3 (ipykernel)",
   "language": "python",
   "name": "python3"
  },
  "language_info": {
   "codemirror_mode": {
    "name": "ipython",
    "version": 3
   },
   "file_extension": ".py",
   "mimetype": "text/x-python",
   "name": "python",
   "nbconvert_exporter": "python",
   "pygments_lexer": "ipython3",
   "version": "3.12.7"
  }
 },
 "nbformat": 4,
 "nbformat_minor": 5
}
