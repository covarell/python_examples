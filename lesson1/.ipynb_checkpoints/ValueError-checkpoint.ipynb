{
 "cells": [
  {
   "cell_type": "markdown",
   "id": "af0d29cf-3897-42f4-b586-a61616718884",
   "metadata": {},
   "source": [
    "### Come scrivere correttamente misure e incertezze"
   ]
  },
  {
   "cell_type": "code",
   "execution_count": 11,
   "id": "644b0f92-54e8-4853-b6ce-9343961b44cd",
   "metadata": {},
   "outputs": [],
   "source": [
    "def notScient(numero, potenza = -99) :\n",
    "\n",
    "    if (potenza != -99) :\n",
    "        return numero / (10 ** potenza) , potenza\n",
    "    else:\n",
    "        potenza = 0\n",
    "        while (numero < 1.) :\n",
    "            potenza -= 1 ;   numero *= 10. \n",
    "        while (numero >= 10.) :\n",
    "            potenza += 1 ;   numero /= 10.\n",
    "            \n",
    "    return numero, potenza"
   ]
  },
  {
   "cell_type": "code",
   "execution_count": 12,
   "id": "e5416e1b-8f62-43b6-b899-257b048ecdd5",
   "metadata": {},
   "outputs": [],
   "source": [
    "\n",
    "valore = 49800000000000000\n",
    "errore = 3000000000000000"
   ]
  },
  {
   "cell_type": "code",
   "execution_count": 13,
   "id": "96dc6a81-9e7e-4272-b28c-73f5a773358a",
   "metadata": {},
   "outputs": [
    {
     "name": "stdout",
     "output_type": "stream",
     "text": [
      "Valore +/- errore = (50 +/- 3) x 10^15\n"
     ]
    }
   ],
   "source": [
    "divErr, potErr = notScient(errore)\n",
    "\n",
    "if (divErr < 2.) : \n",
    "    potErr -= 1\n",
    "    divErr, potErr = notScient(errore, potErr)\n",
    "    \n",
    "divVal, potErr = notScient(valore, potErr) \n",
    "\n",
    "print (f'Valore +/- errore = ({divVal:.0f} +/- {divErr:.0f}) x 10^{potErr}')"
   ]
  },
  {
   "cell_type": "code",
   "execution_count": null,
   "id": "ffbaf6fd-f3dd-4c73-80f0-3e1eab30422e",
   "metadata": {},
   "outputs": [],
   "source": []
  }
 ],
 "metadata": {
  "kernelspec": {
   "display_name": "Python 3 (ipykernel)",
   "language": "python",
   "name": "python3"
  },
  "language_info": {
   "codemirror_mode": {
    "name": "ipython",
    "version": 3
   },
   "file_extension": ".py",
   "mimetype": "text/x-python",
   "name": "python",
   "nbconvert_exporter": "python",
   "pygments_lexer": "ipython3",
   "version": "3.12.7"
  }
 },
 "nbformat": 4,
 "nbformat_minor": 5
}
