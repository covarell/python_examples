{
 "cells": [
  {
   "cell_type": "code",
   "execution_count": 6,
   "id": "1b7a1f5d-96e6-4925-a1ff-c3312636f77a",
   "metadata": {},
   "outputs": [],
   "source": [
    "import ROOT"
   ]
  },
  {
   "cell_type": "code",
   "execution_count": 7,
   "id": "4b384fae-5978-4dc4-9ea5-7ad9f4ea27b2",
   "metadata": {},
   "outputs": [],
   "source": [
    "c1 = ROOT.TCanvas()"
   ]
  },
  {
   "cell_type": "code",
   "execution_count": 8,
   "id": "4d3d3b0c-60b6-4341-b961-2ab5654dafab",
   "metadata": {},
   "outputs": [],
   "source": [
    "ROOT.TMVA.Tools.Instance()\n",
    "ROOT.TMVA.PyMethodBase.PyInitialize()\n",
    "reader = ROOT.TMVA.Reader(\"Color:!Silent\")"
   ]
  },
  {
   "cell_type": "code",
   "execution_count": 9,
   "id": "e28d08e9-e92a-4c6c-8c4a-753f4879b43c",
   "metadata": {},
   "outputs": [],
   "source": [
    "outputfile = ROOT.TFile.Open(\"prova.root\",\"RECREATE\")\n",
    "factory = ROOT.TMVA.Factory(\"Flixnet_Classification\", outputfile,\"!V:ROC:!Silent:Color:AnalysisType=Classification\" )"
   ]
  },
  {
   "cell_type": "code",
   "execution_count": 9,
   "id": "883b37d6-809d-4b7d-bf9b-d9879ba2145b",
   "metadata": {},
   "outputs": [],
   "source": [
    "h1.Draw()"
   ]
  },
  {
   "cell_type": "code",
   "execution_count": 14,
   "id": "5638489a-3cb0-41c8-8244-400acd9a3b76",
   "metadata": {},
   "outputs": [],
   "source": [
    "c1.Update()"
   ]
  },
  {
   "cell_type": "code",
   "execution_count": 15,
   "id": "51c64eae-1028-491a-80c2-3f1024614057",
   "metadata": {},
   "outputs": [
    {
     "data": {
      "text/plain": [
       "<cppyy.gbl.TFitResultPtr object at 0x5599340d0750>"
      ]
     },
     "execution_count": 15,
     "metadata": {},
     "output_type": "execute_result"
    },
    {
     "name": "stdout",
     "output_type": "stream",
     "text": [
      "****************************************\n",
      "Minimizer is Minuit2 / Migrad\n",
      "Chi2                      =      6.42655\n",
      "NDf                       =            8\n",
      "Edm                       =  1.76506e-08\n",
      "NCalls                    =           59\n",
      "Constant                  =      1623.37   +/-   21.2605     \n",
      "Mean                      =      5.02087   +/-   0.027698    \n",
      "Sigma                     =      2.52807   +/-   0.0256141    \t (limited)\n"
     ]
    }
   ],
   "source": [
    "h1.Fit(\"gaus\",\"S\")"
   ]
  },
  {
   "cell_type": "code",
   "execution_count": null,
   "id": "298e51fc-dcf8-4cec-8b47-3a9cb5c91422",
   "metadata": {},
   "outputs": [],
   "source": []
  }
 ],
 "metadata": {
  "kernelspec": {
   "display_name": "Python 3 (ipykernel)",
   "language": "python",
   "name": "python3"
  },
  "language_info": {
   "codemirror_mode": {
    "name": "ipython",
    "version": 3
   },
   "file_extension": ".py",
   "mimetype": "text/x-python",
   "name": "python",
   "nbconvert_exporter": "python",
   "pygments_lexer": "ipython3",
   "version": "3.12.8"
  }
 },
 "nbformat": 4,
 "nbformat_minor": 5
}
