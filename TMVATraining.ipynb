{
 "cells": [
  {
   "cell_type": "code",
   "execution_count": 82,
   "id": "1b7a1f5d-96e6-4925-a1ff-c3312636f77a",
   "metadata": {},
   "outputs": [],
   "source": [
    "import ROOT"
   ]
  },
  {
   "cell_type": "code",
   "execution_count": 83,
   "id": "4b384fae-5978-4dc4-9ea5-7ad9f4ea27b2",
   "metadata": {},
   "outputs": [],
   "source": [
    "c1 = ROOT.TCanvas()"
   ]
  },
  {
   "cell_type": "code",
   "execution_count": 84,
   "id": "4d3d3b0c-60b6-4341-b961-2ab5654dafab",
   "metadata": {},
   "outputs": [],
   "source": [
    "ROOT.TMVA.Tools.Instance()\n",
    "ROOT.TMVA.PyMethodBase.PyInitialize()\n",
    "reader = ROOT.TMVA.Reader(\"Color:!Silent\")"
   ]
  },
  {
   "cell_type": "code",
   "execution_count": 85,
   "id": "e28d08e9-e92a-4c6c-8c4a-753f4879b43c",
   "metadata": {},
   "outputs": [],
   "source": [
    "outputfile = ROOT.TFile.Open(\"flixnet.root\",\"RECREATE\")\n",
    "factory = ROOT.TMVA.Factory(\"Flixnet_Classification\", outputfile,\"!V:ROC:!Silent:Color:AnalysisType=Classification\" )"
   ]
  },
  {
   "cell_type": "code",
   "execution_count": 86,
   "id": "883b37d6-809d-4b7d-bf9b-d9879ba2145b",
   "metadata": {},
   "outputs": [],
   "source": [
    "header_row = open('../my_python_examples/liked.csv').readline().strip().split(',')"
   ]
  },
  {
   "cell_type": "code",
   "execution_count": 87,
   "id": "5638489a-3cb0-41c8-8244-400acd9a3b76",
   "metadata": {},
   "outputs": [
    {
     "data": {
      "text/plain": [
       "['comed', 'drama', 'epifa', 'eroti', 'myste', 'roman', 'thril']"
      ]
     },
     "execution_count": 87,
     "metadata": {},
     "output_type": "execute_result"
    }
   ],
   "source": [
    "header_row"
   ]
  },
  {
   "cell_type": "code",
   "execution_count": 88,
   "id": "51c64eae-1028-491a-80c2-3f1024614057",
   "metadata": {},
   "outputs": [],
   "source": [
    "branch_names = ':'.join([feature+'/I' for feature in header_row])"
   ]
  },
  {
   "cell_type": "code",
   "execution_count": 89,
   "id": "298e51fc-dcf8-4cec-8b47-3a9cb5c91422",
   "metadata": {},
   "outputs": [
    {
     "data": {
      "text/plain": [
       "'comed/I:drama/I:epifa/I:eroti/I:myste/I:roman/I:thril/I'"
      ]
     },
     "execution_count": 89,
     "metadata": {},
     "output_type": "execute_result"
    }
   ],
   "source": [
    "branch_names"
   ]
  },
  {
   "cell_type": "code",
   "execution_count": 90,
   "id": "8478f7bc-7a32-4872-b77e-7d3d61879d1a",
   "metadata": {},
   "outputs": [],
   "source": [
    "sig_tree = ROOT.TTree(\"sig_tree\", \"sig_tree\")"
   ]
  },
  {
   "cell_type": "code",
   "execution_count": 91,
   "id": "01c2aeff-3f8d-47ea-a393-0ee77ef9315c",
   "metadata": {},
   "outputs": [],
   "source": [
    "file_lines = open('../my_python_examples/liked.csv').readlines()"
   ]
  },
  {
   "cell_type": "code",
   "execution_count": 92,
   "id": "5e9344e5-7057-48be-bad4-db0a811e8585",
   "metadata": {},
   "outputs": [],
   "source": [
    "data_stream = ''.join([line for line in file_lines[1:]])"
   ]
  },
  {
   "cell_type": "code",
   "execution_count": 93,
   "id": "f3c335ee-7697-4390-9b8d-a012eab704a0",
   "metadata": {},
   "outputs": [
    {
     "data": {
      "text/plain": [
       "432"
      ]
     },
     "execution_count": 93,
     "metadata": {},
     "output_type": "execute_result"
    }
   ],
   "source": [
    "sig_tree.ReadStream(ROOT.istringstream(data_stream),branch_names,delimiter=',')"
   ]
  },
  {
   "cell_type": "code",
   "execution_count": 94,
   "id": "c4b7fc5c-c3cd-4787-be88-22380b300b20",
   "metadata": {},
   "outputs": [
    {
     "name": "stdout",
     "output_type": "stream",
     "text": [
      "******************************************************************************\n",
      "*Tree    :sig_tree  : sig_tree                                               *\n",
      "*Entries :      432 : Total =           16952 bytes  File  Size =          0 *\n",
      "*        :          : Tree compression factor =   1.00                       *\n",
      "******************************************************************************\n",
      "*Br    0 :comed     : comed/I                                                *\n",
      "*Entries :      432 : Total  Size=       2381 bytes  One basket in memory    *\n",
      "*Baskets :        0 : Basket Size=      32000 bytes  Compression=   1.00     *\n",
      "*............................................................................*\n",
      "*Br    1 :drama     : drama/I                                                *\n",
      "*Entries :      432 : Total  Size=       2381 bytes  One basket in memory    *\n",
      "*Baskets :        0 : Basket Size=      32000 bytes  Compression=   1.00     *\n",
      "*............................................................................*\n",
      "*Br    2 :epifa     : epifa/I                                                *\n",
      "*Entries :      432 : Total  Size=       2381 bytes  One basket in memory    *\n",
      "*Baskets :        0 : Basket Size=      32000 bytes  Compression=   1.00     *\n",
      "*............................................................................*\n",
      "*Br    3 :eroti     : eroti/I                                                *\n",
      "*Entries :      432 : Total  Size=       2381 bytes  One basket in memory    *\n",
      "*Baskets :        0 : Basket Size=      32000 bytes  Compression=   1.00     *\n",
      "*............................................................................*\n",
      "*Br    4 :myste     : myste/I                                                *\n",
      "*Entries :      432 : Total  Size=       2381 bytes  One basket in memory    *\n",
      "*Baskets :        0 : Basket Size=      32000 bytes  Compression=   1.00     *\n",
      "*............................................................................*\n",
      "*Br    5 :roman     : roman/I                                                *\n",
      "*Entries :      432 : Total  Size=       2381 bytes  One basket in memory    *\n",
      "*Baskets :        0 : Basket Size=      32000 bytes  Compression=   1.00     *\n",
      "*............................................................................*\n",
      "*Br    6 :thril     : thril/I                                                *\n",
      "*Entries :      432 : Total  Size=       2381 bytes  One basket in memory    *\n",
      "*Baskets :        0 : Basket Size=      32000 bytes  Compression=   1.00     *\n",
      "*............................................................................*\n"
     ]
    }
   ],
   "source": [
    "sig_tree.Print()"
   ]
  },
  {
   "cell_type": "code",
   "execution_count": 95,
   "id": "49c0819c-a0d7-4354-991e-d31305aa0b2a",
   "metadata": {},
   "outputs": [
    {
     "data": {
      "text/plain": [
       "<cppyy.gbl.TCanvas object at 0x56520e8fb6f0>"
      ]
     },
     "execution_count": 95,
     "metadata": {},
     "output_type": "execute_result"
    }
   ],
   "source": [
    "c1.cd()"
   ]
  },
  {
   "cell_type": "code",
   "execution_count": 96,
   "id": "31c0a4cb-7e51-4333-a497-69925f5b6c7f",
   "metadata": {},
   "outputs": [],
   "source": [
    "sig_tree.Draw(\"thril\")"
   ]
  },
  {
   "cell_type": "code",
   "execution_count": 97,
   "id": "4034da51-dc7a-43d0-a334-db0f3c8b135b",
   "metadata": {},
   "outputs": [
    {
     "data": {
      "image/png": "[encoded data removed]",
      "text/plain": [
       "<IPython.core.display.Image object>"
      ]
     },
     "metadata": {},
     "output_type": "display_data"
    }
   ],
   "source": [
    "c1.Update()"
   ]
  },
  {
   "cell_type": "code",
   "execution_count": 98,
   "id": "21b33af3-c83c-436a-86f0-aac1f9535d67",
   "metadata": {},
   "outputs": [
    {
     "data": {
      "image/png": "[encoded data removed]",
      "text/plain": [
       "<IPython.core.display.Image object>"
      ]
     },
     "metadata": {},
     "output_type": "display_data"
    }
   ],
   "source": [
    "c1.Draw()"
   ]
  },
  {
   "cell_type": "code",
   "execution_count": 99,
   "id": "e6c89902-91d8-49b5-8497-2b7ef2dbb5d3",
   "metadata": {},
   "outputs": [],
   "source": [
    "bkg_tree = ROOT.TTree(\"bkg_tree\", \"feat_tree\")"
   ]
  },
  {
   "cell_type": "code",
   "execution_count": 100,
   "id": "f856f55d-9063-49e0-9632-4e0e52b40c72",
   "metadata": {},
   "outputs": [],
   "source": [
    "file_lines2 = open('../my_python_examples/hated.csv').readlines()"
   ]
  },
  {
   "cell_type": "code",
   "execution_count": 101,
   "id": "4898d69f-6fb8-4c13-bcf8-5dc8824e8c95",
   "metadata": {},
   "outputs": [],
   "source": [
    "data_stream2 = ''.join([line for line in file_lines2[1:]])"
   ]
  },
  {
   "cell_type": "code",
   "execution_count": 102,
   "id": "301d4d8d-933e-498a-a824-22ae181b6d0a",
   "metadata": {},
   "outputs": [
    {
     "data": {
      "text/plain": [
       "389"
      ]
     },
     "execution_count": 102,
     "metadata": {},
     "output_type": "execute_result"
    }
   ],
   "source": [
    "bkg_tree.ReadStream(ROOT.istringstream(data_stream2),branch_names,delimiter=',')"
   ]
  },
  {
   "cell_type": "code",
   "execution_count": 103,
   "id": "1d7f8b28-15c1-4845-9ece-e5a916d28efb",
   "metadata": {},
   "outputs": [],
   "source": [
    "bkg_tree.Draw(\"thril\")"
   ]
  },
  {
   "cell_type": "code",
   "execution_count": 104,
   "id": "037278c2-f4a6-46ef-8496-94b794ba1778",
   "metadata": {},
   "outputs": [
    {
     "data": {
      "image/png": "[encoded data removed]",
      "text/plain": [
       "<IPython.core.display.Image object>"
      ]
     },
     "metadata": {},
     "output_type": "display_data"
    }
   ],
   "source": [
    "c1.Draw()"
   ]
  },
  {
   "cell_type": "code",
   "execution_count": 105,
   "id": "8b0af0bc-cbc2-49e1-bd6e-a94705afe502",
   "metadata": {},
   "outputs": [],
   "source": [
    "h1 = ROOT.TH1F(\"h1\",\"feature value\",10,1,11)"
   ]
  },
  {
   "cell_type": "code",
   "execution_count": 106,
   "id": "c90ac7e2-c46a-4b78-9f8d-11b769848277",
   "metadata": {},
   "outputs": [],
   "source": [
    "sig_tree.Draw(\"thril >> h1\")"
   ]
  },
  {
   "cell_type": "code",
   "execution_count": 107,
   "id": "8385ae6c-8a27-4cd4-8e1e-537147679484",
   "metadata": {},
   "outputs": [],
   "source": [
    "h1.Draw()"
   ]
  },
  {
   "cell_type": "code",
   "execution_count": 108,
   "id": "052266f4-0085-4088-9b91-acc80e0f87ea",
   "metadata": {},
   "outputs": [],
   "source": [
    "h2 = h1.Clone()"
   ]
  },
  {
   "cell_type": "code",
   "execution_count": 109,
   "id": "4c2815fa-5954-4533-b549-82a77cc110e2",
   "metadata": {},
   "outputs": [],
   "source": [
    "bkg_tree.Draw(\"thril >> h2\")"
   ]
  },
  {
   "cell_type": "code",
   "execution_count": 110,
   "id": "24a6c2ce-d1a8-43c9-8564-e650d87d854a",
   "metadata": {},
   "outputs": [],
   "source": [
    "h2.SetLineColor(ROOT.kRed)"
   ]
  },
  {
   "cell_type": "code",
   "execution_count": 111,
   "id": "0c978169-d83f-471c-abc7-a4c86cfe247c",
   "metadata": {},
   "outputs": [],
   "source": [
    "h2.Draw(\"same\")"
   ]
  },
  {
   "cell_type": "code",
   "execution_count": 112,
   "id": "3d45b783-1061-41e9-8412-87e7a95f9684",
   "metadata": {},
   "outputs": [],
   "source": [
    "c1.Update()"
   ]
  },
  {
   "cell_type": "code",
   "execution_count": 113,
   "id": "8b9f13a5-3b21-4133-a690-ba4a8a643b42",
   "metadata": {},
   "outputs": [],
   "source": [
    "tdl = ROOT.TMVA.DataLoader(\"dataset\")"
   ]
  },
  {
   "cell_type": "code",
   "execution_count": 114,
   "id": "31450de2-81ba-4827-b237-07697993ddb3",
   "metadata": {},
   "outputs": [],
   "source": [
    "for branch in sig_tree.GetListOfBranches():\n",
    "    tdl.AddVariable(branch.GetName(),type='I')"
   ]
  },
  {
   "cell_type": "code",
   "execution_count": 115,
   "id": "d0177711-c6e5-4224-9576-354dfd49198b",
   "metadata": {},
   "outputs": [
    {
     "name": "stdout",
     "output_type": "stream",
     "text": [
      "DataSetInfo              : [dataset] : Added class \"Signal\"\n",
      "                         : Add Tree sig_tree of type Signal with 432 events\n",
      "DataSetInfo              : [dataset] : Added class \"Background\"\n",
      "                         : Add Tree bkg_tree of type Background with 389 events\n"
     ]
    }
   ],
   "source": [
    "tdl.AddSignalTree(sig_tree)\n",
    "tdl.AddBackgroundTree(bkg_tree)"
   ]
  },
  {
   "cell_type": "code",
   "execution_count": 116,
   "id": "b08cf3d1-2337-46f8-b1f1-34fcc5bc74f2",
   "metadata": {},
   "outputs": [
    {
     "data": {
      "text/plain": [
       "<cppyy.gbl.TMVA.MethodFisher object at 0x5652119b3930>"
      ]
     },
     "execution_count": 116,
     "metadata": {},
     "output_type": "execute_result"
    },
    {
     "name": "stdout",
     "output_type": "stream",
     "text": [
      "Factory                  : Booking method: \u001b[1mLikelihoodD\u001b[0m\n",
      "                         : \n",
      "LikelihoodD              : [dataset] : Create Transformation \"Decorrelate\" with events from all classes.\n",
      "                         : \n",
      "                         : Transformation, Variable selection : \n",
      "                         : Input : variable 'comed' <---> Output : variable 'comed'\n",
      "                         : Input : variable 'drama' <---> Output : variable 'drama'\n",
      "                         : Input : variable 'epifa' <---> Output : variable 'epifa'\n",
      "                         : Input : variable 'eroti' <---> Output : variable 'eroti'\n",
      "                         : Input : variable 'myste' <---> Output : variable 'myste'\n",
      "                         : Input : variable 'roman' <---> Output : variable 'roman'\n",
      "                         : Input : variable 'thril' <---> Output : variable 'thril'\n",
      "Factory                  : Booking method: \u001b[1mMLP\u001b[0m\n",
      "                         : \n",
      "MLP                      : [dataset] : Create Transformation \"N\" with events from all classes.\n",
      "                         : \n",
      "                         : Transformation, Variable selection : \n",
      "                         : Input : variable 'comed' <---> Output : variable 'comed'\n",
      "                         : Input : variable 'drama' <---> Output : variable 'drama'\n",
      "                         : Input : variable 'epifa' <---> Output : variable 'epifa'\n",
      "                         : Input : variable 'eroti' <---> Output : variable 'eroti'\n",
      "                         : Input : variable 'myste' <---> Output : variable 'myste'\n",
      "                         : Input : variable 'roman' <---> Output : variable 'roman'\n",
      "                         : Input : variable 'thril' <---> Output : variable 'thril'\n",
      "MLP                      : Building Network. \n",
      "                         : Initializing weights\n",
      "Factory                  : Booking method: \u001b[1mFisher\u001b[0m\n",
      "                         : \n"
     ]
    }
   ],
   "source": [
    "factory.BookMethod( tdl, ROOT.TMVA.Types.kLikelihood, \"LikelihoodD\",\"!H:!V:TransformOutput:PDFInterpol=Spline3:NSmoothSig[0]=20:NSmoothBkg[0]=20:NSmooth=5:NAvEvtPerBin=50:VarTransform=Decorrelate\") \n",
    "factory.BookMethod( tdl, ROOT.TMVA.Types.kMLP, \"MLP\", \"H:!V:NeuronType=tanh:VarTransform=N:NCycles=600:HiddenLayers=N+5:TestRate=5:!UseRegulator\")\n",
    "factory.BookMethod( tdl, ROOT.TMVA.Types.kFisher, \"Fisher\", \"H:!V:Fisher:VarTransform=None:CreateMVAPdfs:PDFInterpolMVAPdf=Spline2:NbinsMVAPdf=30:NsmoothMVAPdf=10\" )\n",
    "                   "
   ]
  },
  {
   "cell_type": "code",
   "execution_count": 117,
   "id": "2dc431bf-561b-4304-b388-f8bd072995ad",
   "metadata": {},
   "outputs": [
    {
     "name": "stdout",
     "output_type": "stream",
     "text": [
      "Factory                  : \u001b[1mTrain all methods\u001b[0m\n",
      "                         : Rebuilding Dataset dataset\n",
      "                         : Building event vectors for type 2 Signal\n",
      "                         : Dataset[dataset] :  create input formulas for tree sig_tree\n",
      "                         : Building event vectors for type 2 Background\n",
      "                         : Dataset[dataset] :  create input formulas for tree bkg_tree\n",
      "DataSetFactory           : [dataset] : Number of events in input trees\n",
      "                         : \n",
      "                         : \n",
      "                         : Dataset[dataset] : Weight renormalisation mode: \"EqualNumEvents\": renormalises all event classes ...\n",
      "                         : Dataset[dataset] :  such that the effective (weighted) number of events in each class is the same \n",
      "                         : Dataset[dataset] :  (and equals the number of events (entries) given for class=0 )\n",
      "                         : Dataset[dataset] : ... i.e. such that Sum[i=1..N_j]{w_i} = N_classA, j=classA, classB, ...\n",
      "                         : Dataset[dataset] : ... (note that N_j is the sum of TRAINING events\n",
      "                         : Dataset[dataset] :  ..... Testing events are not renormalised nor included in the renormalisation factor!)\n",
      "                         : Number of training and testing events\n",
      "                         : ---------------------------------------------------------------------------\n",
      "                         : Signal     -- training events            : 216\n",
      "                         : Signal     -- testing events             : 216\n",
      "                         : Signal     -- training and testing events: 432\n",
      "                         : Background -- training events            : 194\n",
      "                         : Background -- testing events             : 194\n",
      "                         : Background -- training and testing events: 388\n",
      "                         : \n",
      "DataSetInfo              : Correlation matrix (Signal):\n",
      "                         : ----------------------------------------------------------------\n",
      "                         :            comed   drama   epifa   eroti   myste   roman   thril\n",
      "                         :   comed:  +1.000  -0.656  +0.037  -0.036  -0.017  -0.005  -0.043\n",
      "                         :   drama:  -0.656  +1.000  +0.000  -0.016  +0.076  -0.035  +0.049\n",
      "                         :   epifa:  +0.037  +0.000  +1.000  -0.036  +0.078  -0.026  +0.221\n",
      "                         :   eroti:  -0.036  -0.016  -0.036  +1.000  -0.019  +0.706  -0.090\n",
      "                         :   myste:  -0.017  +0.076  +0.078  -0.019  +1.000  -0.091  +0.401\n",
      "                         :   roman:  -0.005  -0.035  -0.026  +0.706  -0.091  +1.000  -0.085\n",
      "                         :   thril:  -0.043  +0.049  +0.221  -0.090  +0.401  -0.085  +1.000\n",
      "                         : ----------------------------------------------------------------\n",
      "DataSetInfo              : Correlation matrix (Background):\n",
      "                         : ----------------------------------------------------------------\n",
      "                         :            comed   drama   epifa   eroti   myste   roman   thril\n",
      "                         :   comed:  +1.000  -0.565  +0.076  +0.135  -0.074  +0.089  -0.127\n",
      "                         :   drama:  -0.565  +1.000  -0.046  -0.136  +0.096  -0.127  +0.100\n",
      "                         :   epifa:  +0.076  -0.046  +1.000  +0.100  -0.069  +0.105  -0.071\n",
      "                         :   eroti:  +0.135  -0.136  +0.100  +1.000  -0.018  +0.593  +0.009\n",
      "                         :   myste:  -0.074  +0.096  -0.069  -0.018  +1.000  -0.066  +0.594\n",
      "                         :   roman:  +0.089  -0.127  +0.105  +0.593  -0.066  +1.000  -0.091\n",
      "                         :   thril:  -0.127  +0.100  -0.071  +0.009  +0.594  -0.091  +1.000\n",
      "                         : ----------------------------------------------------------------\n",
      "DataSetFactory           : [dataset] :  \n",
      "                         : \n",
      "Factory                  : [dataset] : Create Transformation \"I\" with events from all classes.\n",
      "                         : \n",
      "                         : Transformation, Variable selection : \n",
      "                         : Input : variable 'comed' <---> Output : variable 'comed'\n",
      "                         : Input : variable 'drama' <---> Output : variable 'drama'\n",
      "                         : Input : variable 'epifa' <---> Output : variable 'epifa'\n",
      "                         : Input : variable 'eroti' <---> Output : variable 'eroti'\n",
      "                         : Input : variable 'myste' <---> Output : variable 'myste'\n",
      "                         : Input : variable 'roman' <---> Output : variable 'roman'\n",
      "                         : Input : variable 'thril' <---> Output : variable 'thril'\n",
      "TFHandler_Factory        : Variable        Mean        RMS   [        Min        Max ]\n",
      "                         : -----------------------------------------------------------\n",
      "                         :    comed:     5.9303     2.3496   [     1.0000     10.000 ]\n",
      "                         :    drama:     3.5225     1.6566   [     1.0000     8.0000 ]\n",
      "                         :    epifa:     6.0620     3.2096   [     1.0000     10.000 ]\n",
      "                         :    eroti:     4.6130     3.0555   [     1.0000     10.000 ]\n",
      "                         :    myste:     6.7436     2.4926   [     1.0000     10.000 ]\n",
      "                         :    roman:     4.6281     3.3789   [     1.0000     10.000 ]\n",
      "                         :    thril:     7.2537     1.7267   [     2.0000     10.000 ]\n",
      "                         : -----------------------------------------------------------\n",
      "                         : Ranking input variables (method unspecific)...\n",
      "IdTransformation         : Ranking result (top variable is best ranked)\n",
      "                         : ------------------------------\n",
      "                         : Rank : Variable  : Separation\n",
      "                         : ------------------------------\n",
      "                         :    1 : eroti     : 1.921e-01\n",
      "                         :    2 : epifa     : 1.588e-01\n",
      "                         :    3 : roman     : 7.875e-02\n",
      "                         :    4 : drama     : 7.669e-02\n",
      "                         :    5 : thril     : 6.997e-02\n",
      "                         :    6 : comed     : 4.477e-02\n",
      "                         :    7 : myste     : 4.032e-02\n",
      "                         : ------------------------------\n",
      "Factory                  : Train method: LikelihoodD for Classification\n",
      "                         : \n",
      "                         : Preparing the Decorrelation transformation...\n",
      "TFHandler_LikelihoodD    : Variable        Mean        RMS   [        Min        Max ]\n",
      "                         : -----------------------------------------------------------\n",
      "                         :    comed:     3.7724     1.0000   [     1.3512     6.0148 ]\n",
      "                         :    drama:     4.0400     1.0000   [     1.8821     7.1706 ]\n",
      "                         :    epifa:     1.6771     1.0000   [  -0.068247     3.0646 ]\n",
      "                         :    eroti:     1.1163     1.0000   [   -0.85468     3.8127 ]\n",
      "                         :    myste:     1.8942     1.0000   [   -0.68368     3.9704 ]\n",
      "                         :    roman:     1.2147     1.0000   [   -0.84713     3.4847 ]\n",
      "                         :    thril:     3.9169     1.0000   [    0.44145     5.9891 ]\n",
      "                         : -----------------------------------------------------------\n",
      "                         : Filling reference histograms\n",
      "<WARNING>                : error in filling likelihood reference histograms var=epifa, xmin=0, value=-0.110468, xmax=4\n",
      "<WARNING>                : error in filling likelihood reference histograms var=epifa, xmin=0, value=-0.286639, xmax=4\n",
      "<WARNING>                : error in filling likelihood reference histograms var=epifa, xmin=0, value=-0.02978, xmax=4\n",
      "<WARNING>                : error in filling likelihood reference histograms var=epifa, xmin=0, value=-0.185726, xmax=4\n",
      "<WARNING>                : error in filling likelihood reference histograms var=epifa, xmin=0, value=-0.11034, xmax=4\n",
      "<WARNING>                : error in filling likelihood reference histograms var=epifa, xmin=0, value=-0.105432, xmax=4\n",
      "<WARNING>                : error in filling likelihood reference histograms var=epifa, xmin=0, value=-0.114901, xmax=4\n",
      "<WARNING>                : error in filling likelihood reference histograms var=epifa, xmin=0, value=-0.178169, xmax=4\n",
      "<WARNING>                : error in filling likelihood reference histograms var=epifa, xmin=0, value=-0.0881714, xmax=4\n",
      "<WARNING>                : error in filling likelihood reference histograms var=epifa, xmin=0, value=-0.0427842, xmax=4\n",
      "<WARNING>                : error in filling likelihood reference histograms var=roman, xmin=-1, value=-1.08005, xmax=5\n",
      "<WARNING>                : error in filling likelihood reference histograms var=epifa, xmin=0, value=-0.0272109, xmax=4\n",
      "<WARNING>                : error in filling likelihood reference histograms var=epifa, xmin=0, value=-0.161849, xmax=4\n",
      "<WARNING>                : error in filling likelihood reference histograms var=epifa, xmin=0, value=-0.145369, xmax=4\n",
      "<WARNING>                : error in filling likelihood reference histograms var=epifa, xmin=0, value=-0.142198, xmax=4\n",
      "<WARNING>                : error in filling likelihood reference histograms var=epifa, xmin=0, value=-0.0299022, xmax=4\n",
      "<WARNING>                : error in filling likelihood reference histograms var=epifa, xmin=0, value=-0.145748, xmax=4\n",
      "<WARNING>                : error in filling likelihood reference histograms var=epifa, xmin=0, value=-0.045273, xmax=4\n",
      "<WARNING>                : error in filling likelihood reference histograms var=epifa, xmin=0, value=-0.0850738, xmax=4\n",
      "<WARNING>                : error in filling likelihood reference histograms var=drama, xmin=2, value=1.95955, xmax=9\n",
      "<WARNING>                : error in filling likelihood reference histograms var=epifa, xmin=0, value=-0.0586289, xmax=4\n",
      "<WARNING>                : error in filling likelihood reference histograms var=drama, xmin=2, value=1.74242, xmax=9\n",
      "<WARNING>                : error in filling likelihood reference histograms var=epifa, xmin=0, value=-0.155333, xmax=4\n",
      "<WARNING>                : error in filling likelihood reference histograms var=drama, xmin=2, value=1.99383, xmax=9\n",
      "                         : Building PDF out of reference histograms\n",
      "                         : Elapsed time for training with 410 events: 0.0133 sec         \n",
      "LikelihoodD              : [dataset] : Evaluation of LikelihoodD on training sample (410 events)\n",
      "                         : Elapsed time for evaluation of 410 events: 0.001 sec       \n",
      "                         : Creating xml weight file: \u001b[0;36mdataset/weights/Flixnet_Classification_LikelihoodD.weights.xml\u001b[0m\n",
      "                         : Creating standalone class: \u001b[0;36mdataset/weights/Flixnet_Classification_LikelihoodD.class.C\u001b[0m\n",
      "                         : flixnet.root:/dataset/Method_Likelihood/LikelihoodD\n",
      "Factory                  : Training finished\n",
      "                         : \n",
      "Factory                  : Train method: MLP for Classification\n",
      "                         : \n",
      "                         : \n",
      "                         : \u001b[1m================================================================\u001b[0m\n",
      "                         : \u001b[1mH e l p   f o r   M V A   m e t h o d   [ MLP ] :\u001b[0m\n",
      "                         : \n",
      "                         : \u001b[1m--- Short description:\u001b[0m\n",
      "                         : \n",
      "                         : The MLP artificial neural network (ANN) is a traditional feed-\n",
      "                         : forward multilayer perceptron implementation. The MLP has a user-\n",
      "                         : defined hidden layer architecture, while the number of input (output)\n",
      "                         : nodes is determined by the input variables (output classes, i.e., \n",
      "                         : signal and one background). \n",
      "                         : \n",
      "                         : \u001b[1m--- Performance optimisation:\u001b[0m\n",
      "                         : \n",
      "                         : Neural networks are stable and performing for a large variety of \n",
      "                         : linear and non-linear classification problems. However, in contrast\n",
      "                         : to (e.g.) boosted decision trees, the user is advised to reduce the \n",
      "                         : number of input variables that have only little discrimination power. \n",
      "                         : \n",
      "                         : In the tests we have carried out so far, the MLP and ROOT networks\n",
      "                         : (TMlpANN, interfaced via TMVA) performed equally well, with however\n",
      "                         : a clear speed advantage for the MLP. The Clermont-Ferrand neural \n",
      "                         : net (CFMlpANN) exhibited worse classification performance in these\n",
      "                         : tests, which is partly due to the slow convergence of its training\n",
      "                         : (at least 10k training cycles are required to achieve approximately\n",
      "                         : competitive results).\n",
      "                         : \n",
      "                         : \u001b[1mOvertraining: \u001b[0monly the TMlpANN performs an explicit separation of the\n",
      "                         : full training sample into independent training and validation samples.\n",
      "                         : We have found that in most high-energy physics applications the \n",
      "                         : available degrees of freedom (training events) are sufficient to \n",
      "                         : constrain the weights of the relatively simple architectures required\n",
      "                         : to achieve good performance. Hence no overtraining should occur, and \n",
      "                         : the use of validation samples would only reduce the available training\n",
      "                         : information. However, if the performance on the training sample is \n",
      "                         : found to be significantly better than the one found with the inde-\n",
      "                         : pendent test sample, caution is needed. The results for these samples \n",
      "                         : are printed to standard output at the end of each training job.\n",
      "                         : \n",
      "                         : \u001b[1m--- Performance tuning via configuration options:\u001b[0m\n",
      "                         : \n",
      "                         : The hidden layer architecture for all ANNs is defined by the option\n",
      "                         : \"HiddenLayers=N+1,N,...\", where here the first hidden layer has N+1\n",
      "                         : neurons and the second N neurons (and so on), and where N is the number  \n",
      "                         : of input variables. Excessive numbers of hidden layers should be avoided,\n",
      "                         : in favour of more neurons in the first hidden layer.\n",
      "                         : \n",
      "                         : The number of cycles should be above 500. As said, if the number of\n",
      "                         : adjustable weights is small compared to the training sample size,\n",
      "                         : using a large number of training samples should not lead to overtraining.\n",
      "                         : \n",
      "                         : <Suppress this message by specifying \"!H\" in the booking option>\n",
      "                         : \u001b[1m================================================================\u001b[0m\n",
      "                         : \n",
      "TFHandler_MLP            : Variable        Mean        RMS   [        Min        Max ]\n",
      "                         : -----------------------------------------------------------\n",
      "                         :    comed:   0.095626    0.52213   [    -1.0000     1.0000 ]\n",
      "                         :    drama:   -0.27930    0.47332   [    -1.0000     1.0000 ]\n",
      "                         :    epifa:    0.12489    0.71325   [    -1.0000     1.0000 ]\n",
      "                         :    eroti:   -0.19711    0.67900   [    -1.0000     1.0000 ]\n",
      "                         :    myste:    0.27635    0.55391   [    -1.0000     1.0000 ]\n",
      "                         :    roman:   -0.19377    0.75086   [    -1.0000     1.0000 ]\n",
      "                         :    thril:    0.31341    0.43169   [    -1.0000     1.0000 ]\n",
      "                         : -----------------------------------------------------------\n",
      "                         : Training Network\n",
      "                         : \n",
      "                         : Elapsed time for training with 410 events: 1.32 sec         \n",
      "MLP                      : [dataset] : Evaluation of MLP on training sample (410 events)\n",
      "                         : Elapsed time for evaluation of 410 events: 0.000827 sec       \n",
      "                         : Creating xml weight file: \u001b[0;36mdataset/weights/Flixnet_Classification_MLP.weights.xml\u001b[0m\n",
      "                         : Creating standalone class: \u001b[0;36mdataset/weights/Flixnet_Classification_MLP.class.C\u001b[0m\n",
      "                         : Write special histos to file: flixnet.root:/dataset/Method_MLP/MLP\n",
      "Factory                  : Training finished\n",
      "                         : \n",
      "Factory                  : Train method: Fisher for Classification\n",
      "                         : \n",
      "                         : \n",
      "                         : \u001b[1m================================================================\u001b[0m\n",
      "                         : \u001b[1mH e l p   f o r   M V A   m e t h o d   [ Fisher ] :\u001b[0m\n",
      "                         : \n",
      "                         : \u001b[1m--- Short description:\u001b[0m\n",
      "                         : \n",
      "                         : Fisher discriminants select events by distinguishing the mean \n",
      "                         : values of the signal and background distributions in a trans- \n",
      "                         : formed variable space where linear correlations are removed.\n",
      "                         : \n",
      "                         :    (More precisely: the \"linear discriminator\" determines\n",
      "                         :     an axis in the (correlated) hyperspace of the input \n",
      "                         :     variables such that, when projecting the output classes \n",
      "                         :     (signal and background) upon this axis, they are pushed \n",
      "                         :     as far as possible away from each other, while events\n",
      "                         :     of a same class are confined in a close vicinity. The  \n",
      "                         :     linearity property of this classifier is reflected in the \n",
      "                         :     metric with which \"far apart\" and \"close vicinity\" are \n",
      "                         :     determined: the covariance matrix of the discriminating\n",
      "                         :     variable space.)\n",
      "                         : \n",
      "                         : \u001b[1m--- Performance optimisation:\u001b[0m\n",
      "                         : \n",
      "                         : Optimal performance for Fisher discriminants is obtained for \n",
      "                         : linearly correlated Gaussian-distributed variables. Any deviation\n",
      "                         : from this ideal reduces the achievable separation power. In \n",
      "                         : particular, no discrimination at all is achieved for a variable\n",
      "                         : that has the same sample mean for signal and background, even if \n",
      "                         : the shapes of the distributions are very different. Thus, Fisher \n",
      "                         : discriminants often benefit from suitable transformations of the \n",
      "                         : input variables. For example, if a variable x in [-1,1] has a \n",
      "                         : a parabolic signal distributions, and a uniform background\n",
      "                         : distributions, their mean value is zero in both cases, leading \n",
      "                         : to no separation. The simple transformation x -> |x| renders this \n",
      "                         : variable powerful for the use in a Fisher discriminant.\n",
      "                         : \n",
      "                         : \u001b[1m--- Performance tuning via configuration options:\u001b[0m\n",
      "                         : \n",
      "                         : <None>\n",
      "                         : \n",
      "                         : <Suppress this message by specifying \"!H\" in the booking option>\n",
      "                         : \u001b[1m================================================================\u001b[0m\n",
      "                         : \n",
      "Fisher                   : Results for Fisher coefficients:\n",
      "                         : -----------------------\n",
      "                         : Variable:  Coefficient:\n",
      "                         : -----------------------\n",
      "                         :    comed:       +0.012\n",
      "                         :    drama:       +0.089\n",
      "                         :    epifa:       -0.032\n",
      "                         :    eroti:       -0.083\n",
      "                         :    myste:       -0.000\n",
      "                         :    roman:       +0.010\n",
      "                         :    thril:       -0.012\n",
      "                         : (offset):       +0.234\n",
      "                         : -----------------------\n",
      "                         : Elapsed time for training with 410 events: 0.000307 sec         \n",
      "Fisher                   : [dataset] : Evaluation of Fisher on training sample (410 events)\n",
      "                         : Elapsed time for evaluation of 410 events: 0.000115 sec       \n",
      "                         : <CreateMVAPdfs> Separation from histogram (PDF): 0.269 (0.000)\n",
      "                         : Dataset[dataset] : Evaluation of Fisher on training sample\n",
      "                         : Creating xml weight file: \u001b[0;36mdataset/weights/Flixnet_Classification_Fisher.weights.xml\u001b[0m\n",
      "                         : Creating standalone class: \u001b[0;36mdataset/weights/Flixnet_Classification_Fisher.class.C\u001b[0m\n",
      "Factory                  : Training finished\n",
      "                         : \n",
      "                         : Ranking input variables (method specific)...\n",
      "LikelihoodD              : Ranking result (top variable is best ranked)\n",
      "                         : ------------------------------------\n",
      "                         : Rank : Variable  : Delta Separation\n",
      "                         : ------------------------------------\n",
      "                         :    1 : eroti     : 2.864e-02\n",
      "                         :    2 : thril     : 2.840e-02\n",
      "                         :    3 : comed     : 2.461e-02\n",
      "                         :    4 : drama     : 2.312e-02\n",
      "                         :    5 : roman     : 2.106e-02\n",
      "                         :    6 : myste     : 2.032e-02\n",
      "                         :    7 : epifa     : -3.966e-03\n",
      "                         : ------------------------------------\n",
      "MLP                      : Ranking result (top variable is best ranked)\n",
      "                         : ------------------------------\n",
      "                         : Rank : Variable  : Importance\n",
      "                         : ------------------------------\n",
      "                         :    1 : roman     : 1.242e+01\n",
      "                         :    2 : epifa     : 1.150e+01\n",
      "                         :    3 : myste     : 9.685e+00\n",
      "                         :    4 : eroti     : 7.843e+00\n",
      "                         :    5 : comed     : 6.521e+00\n",
      "                         :    6 : thril     : 4.088e+00\n",
      "                         :    7 : drama     : 3.259e+00\n",
      "                         : ------------------------------\n",
      "Fisher                   : Ranking result (top variable is best ranked)\n",
      "                         : --------------------------------\n",
      "                         : Rank : Variable  : Discr. power\n",
      "                         : --------------------------------\n",
      "                         :    1 : eroti     : 9.016e-02\n",
      "                         :    2 : drama     : 3.745e-02\n",
      "                         :    3 : roman     : 3.197e-02\n",
      "                         :    4 : epifa     : 2.442e-02\n",
      "                         :    5 : comed     : 1.044e-02\n",
      "                         :    6 : thril     : 3.445e-04\n",
      "                         :    7 : myste     : 3.341e-06\n",
      "                         : --------------------------------\n",
      "Factory                  : === Destroy and recreate all methods via weight files for testing ===\n",
      "                         : \n",
      "                         : Reading weight file: \u001b[0;36mdataset/weights/Flixnet_Classification_LikelihoodD.weights.xml\u001b[0m\n",
      "                         : Reading weight file: \u001b[0;36mdataset/weights/Flixnet_Classification_MLP.weights.xml\u001b[0m\n",
      "MLP                      : Building Network. \n",
      "                         : Initializing weights\n",
      "                         : Reading weight file: \u001b[0;36mdataset/weights/Flixnet_Classification_Fisher.weights.xml\u001b[0m\n"
     ]
    },
    {
     "name": "stderr",
     "output_type": "stream",
     "text": [
      "0%, time left: unknown\n",
      "7%, time left: 0 sec\n",
      "12%, time left: 0 sec\n",
      "19%, time left: 0 sec\n",
      "25%, time left: 0 sec\n",
      "32%, time left: 0 sec\n",
      "38%, time left: 0 sec\n",
      "44%, time left: 0 sec\n",
      "50%, time left: 0 sec\n",
      "56%, time left: 0 sec\n",
      "63%, time left: 0 sec\n",
      "69%, time left: 0 sec\n",
      "75%, time left: 0 sec\n",
      "82%, time left: 0 sec\n",
      "88%, time left: 0 sec\n",
      "94%, time left: 0 sec\n",
      "0%, time left: unknown\n",
      "6%, time left: 1 sec\n",
      "12%, time left: 1 sec\n",
      "19%, time left: 1 sec\n",
      "25%, time left: 0 sec\n",
      "31%, time left: 0 sec\n",
      "37%, time left: 0 sec\n",
      "44%, time left: 0 sec\n",
      "50%, time left: 0 sec\n",
      "56%, time left: 0 sec\n",
      "62%, time left: 0 sec\n",
      "69%, time left: 0 sec\n",
      "75%, time left: 0 sec\n",
      "81%, time left: 0 sec\n",
      "87%, time left: 0 sec\n",
      "94%, time left: 0 sec\n",
      "0%, time left: unknown\n",
      "7%, time left: 0 sec\n",
      "12%, time left: 0 sec\n",
      "19%, time left: 0 sec\n",
      "25%, time left: 0 sec\n",
      "32%, time left: 0 sec\n",
      "38%, time left: 0 sec\n",
      "44%, time left: 0 sec\n",
      "50%, time left: 0 sec\n",
      "56%, time left: 0 sec\n",
      "63%, time left: 0 sec\n",
      "69%, time left: 0 sec\n",
      "75%, time left: 0 sec\n",
      "82%, time left: 0 sec\n",
      "88%, time left: 0 sec\n",
      "94%, time left: 0 sec\n",
      "0%, time left: unknown\n",
      "7%, time left: 0 sec\n",
      "12%, time left: 0 sec\n",
      "19%, time left: 0 sec\n",
      "25%, time left: 0 sec\n",
      "32%, time left: 0 sec\n",
      "38%, time left: 0 sec\n",
      "44%, time left: 0 sec\n",
      "50%, time left: 0 sec\n",
      "56%, time left: 0 sec\n",
      "63%, time left: 0 sec\n",
      "69%, time left: 0 sec\n",
      "75%, time left: 0 sec\n",
      "82%, time left: 0 sec\n",
      "88%, time left: 0 sec\n",
      "94%, time left: 0 sec\n",
      "0%, time left: unknown\n",
      "7%, time left: 0 sec\n",
      "12%, time left: 0 sec\n",
      "19%, time left: 0 sec\n",
      "25%, time left: 0 sec\n",
      "32%, time left: 0 sec\n",
      "38%, time left: 0 sec\n",
      "44%, time left: 0 sec\n",
      "50%, time left: 0 sec\n",
      "56%, time left: 0 sec\n",
      "63%, time left: 0 sec\n",
      "69%, time left: 0 sec\n",
      "75%, time left: 0 sec\n",
      "82%, time left: 0 sec\n",
      "88%, time left: 0 sec\n",
      "94%, time left: 0 sec\n"
     ]
    }
   ],
   "source": [
    "factory.TrainAllMethods()"
   ]
  },
  {
   "cell_type": "code",
   "execution_count": 118,
   "id": "335abc14-b249-41cc-b3bd-8135353158b1",
   "metadata": {},
   "outputs": [
    {
     "name": "stdout",
     "output_type": "stream",
     "text": [
      "Factory                  : \u001b[1mTest all methods\u001b[0m\n",
      "Factory                  : Test method: LikelihoodD for Classification performance\n",
      "                         : \n",
      "LikelihoodD              : [dataset] : Evaluation of LikelihoodD on testing sample (410 events)\n",
      "                         : Elapsed time for evaluation of 410 events: 0.00229 sec       \n",
      "Factory                  : Test method: MLP for Classification performance\n",
      "                         : \n",
      "MLP                      : [dataset] : Evaluation of MLP on testing sample (410 events)\n",
      "                         : Elapsed time for evaluation of 410 events: 0.00195 sec       \n",
      "Factory                  : Test method: Fisher for Classification performance\n",
      "                         : \n",
      "Fisher                   : [dataset] : Evaluation of Fisher on testing sample (410 events)\n",
      "                         : Elapsed time for evaluation of 410 events: 0.000193 sec       \n",
      "                         : Dataset[dataset] : Evaluation of Fisher on testing sample\n"
     ]
    },
    {
     "name": "stderr",
     "output_type": "stream",
     "text": [
      "0%, time left: unknown\n",
      "7%, time left: 0 sec\n",
      "12%, time left: 0 sec\n",
      "19%, time left: 0 sec\n",
      "25%, time left: 0 sec\n",
      "32%, time left: 0 sec\n",
      "38%, time left: 0 sec\n",
      "44%, time left: 0 sec\n",
      "50%, time left: 0 sec\n",
      "56%, time left: 0 sec\n",
      "63%, time left: 0 sec\n",
      "69%, time left: 0 sec\n",
      "75%, time left: 0 sec\n",
      "82%, time left: 0 sec\n",
      "88%, time left: 0 sec\n",
      "94%, time left: 0 sec\n",
      "0%, time left: unknown\n",
      "7%, time left: 0 sec\n",
      "12%, time left: 0 sec\n",
      "19%, time left: 0 sec\n",
      "25%, time left: 0 sec\n",
      "32%, time left: 0 sec\n",
      "38%, time left: 0 sec\n",
      "44%, time left: 0 sec\n",
      "50%, time left: 0 sec\n",
      "56%, time left: 0 sec\n",
      "63%, time left: 0 sec\n",
      "69%, time left: 0 sec\n",
      "75%, time left: 0 sec\n",
      "82%, time left: 0 sec\n",
      "88%, time left: 0 sec\n",
      "94%, time left: 0 sec\n",
      "0%, time left: unknown\n",
      "7%, time left: 0 sec\n",
      "12%, time left: 0 sec\n",
      "19%, time left: 0 sec\n",
      "25%, time left: 0 sec\n",
      "32%, time left: 0 sec\n",
      "38%, time left: 0 sec\n",
      "44%, time left: 0 sec\n",
      "50%, time left: 0 sec\n",
      "56%, time left: 0 sec\n",
      "63%, time left: 0 sec\n",
      "69%, time left: 0 sec\n",
      "75%, time left: 0 sec\n",
      "82%, time left: 0 sec\n",
      "88%, time left: 0 sec\n",
      "94%, time left: 0 sec\n",
      "0%, time left: unknown\n",
      "7%, time left: 0 sec\n",
      "12%, time left: 0 sec\n",
      "19%, time left: 0 sec\n",
      "25%, time left: 0 sec\n",
      "32%, time left: 0 sec\n",
      "38%, time left: 0 sec\n",
      "44%, time left: 0 sec\n",
      "50%, time left: 0 sec\n",
      "56%, time left: 0 sec\n",
      "63%, time left: 0 sec\n",
      "69%, time left: 0 sec\n",
      "75%, time left: 0 sec\n",
      "82%, time left: 0 sec\n",
      "88%, time left: 0 sec\n",
      "94%, time left: 0 sec\n"
     ]
    }
   ],
   "source": [
    "factory.TestAllMethods()"
   ]
  },
  {
   "cell_type": "code",
   "execution_count": 119,
   "id": "23675340-1461-4c56-9f72-e9ab66966c3b",
   "metadata": {},
   "outputs": [
    {
     "name": "stdout",
     "output_type": "stream",
     "text": [
      "Factory                  : \u001b[1mEvaluate all methods\u001b[0m\n",
      "Factory                  : Evaluate classifier: LikelihoodD\n",
      "                         : \n",
      "TFHandler_LikelihoodD    : Variable        Mean        RMS   [        Min        Max ]\n",
      "                         : -----------------------------------------------------------\n",
      "                         :    comed:     3.9386     1.0703   [     1.4198     6.2707 ]\n",
      "                         :    drama:     4.1106     1.1431   [     1.5229     8.5665 ]\n",
      "                         :    epifa:     1.7562    0.92666   [   0.095072     3.0532 ]\n",
      "                         :    eroti:     1.0469    0.97600   [    -1.1111     3.4617 ]\n",
      "                         :    myste:     1.7279     1.0345   [   -0.75547     3.7685 ]\n",
      "                         :    roman:     1.1510    0.87599   [   -0.32812     3.5253 ]\n",
      "                         :    thril:     3.4723    0.92811   [    0.84981     5.7136 ]\n",
      "                         : -----------------------------------------------------------\n",
      "LikelihoodD              : [dataset] : Loop over test events and fill histograms with classifier response...\n",
      "                         : \n",
      "TFHandler_LikelihoodD    : Variable        Mean        RMS   [        Min        Max ]\n",
      "                         : -----------------------------------------------------------\n",
      "                         :    comed:     3.9386     1.0703   [     1.4198     6.2707 ]\n",
      "                         :    drama:     4.1106     1.1431   [     1.5229     8.5665 ]\n",
      "                         :    epifa:     1.7562    0.92666   [   0.095072     3.0532 ]\n",
      "                         :    eroti:     1.0469    0.97600   [    -1.1111     3.4617 ]\n",
      "                         :    myste:     1.7279     1.0345   [   -0.75547     3.7685 ]\n",
      "                         :    roman:     1.1510    0.87599   [   -0.32812     3.5253 ]\n",
      "                         :    thril:     3.4723    0.92811   [    0.84981     5.7136 ]\n",
      "                         : -----------------------------------------------------------\n",
      "Factory                  : Evaluate classifier: MLP\n",
      "                         : \n",
      "TFHandler_MLP            : Variable        Mean        RMS   [        Min        Max ]\n",
      "                         : -----------------------------------------------------------\n",
      "                         :    comed:    0.11220    0.50817   [    -1.0000     1.0000 ]\n",
      "                         :    drama:   -0.27178    0.46060   [    -1.0000     1.5714 ]\n",
      "                         :    epifa:    0.13008    0.69532   [    -1.0000     1.0000 ]\n",
      "                         :    eroti:   -0.21518    0.63673   [    -1.0000     1.0000 ]\n",
      "                         :    myste:    0.24065    0.58648   [    -1.0000     1.0000 ]\n",
      "                         :    roman:   -0.24932    0.67621   [    -1.0000     1.0000 ]\n",
      "                         :    thril:    0.27195    0.44256   [    -1.0000     1.0000 ]\n",
      "                         : -----------------------------------------------------------\n",
      "MLP                      : [dataset] : Loop over test events and fill histograms with classifier response...\n",
      "                         : \n",
      "TFHandler_MLP            : Variable        Mean        RMS   [        Min        Max ]\n",
      "                         : -----------------------------------------------------------\n",
      "                         :    comed:    0.11220    0.50817   [    -1.0000     1.0000 ]\n",
      "                         :    drama:   -0.27178    0.46060   [    -1.0000     1.5714 ]\n",
      "                         :    epifa:    0.13008    0.69532   [    -1.0000     1.0000 ]\n",
      "                         :    eroti:   -0.21518    0.63673   [    -1.0000     1.0000 ]\n",
      "                         :    myste:    0.24065    0.58648   [    -1.0000     1.0000 ]\n",
      "                         :    roman:   -0.24932    0.67621   [    -1.0000     1.0000 ]\n",
      "                         :    thril:    0.27195    0.44256   [    -1.0000     1.0000 ]\n",
      "                         : -----------------------------------------------------------\n",
      "Factory                  : Evaluate classifier: Fisher\n",
      "                         : \n",
      "Fisher                   : [dataset] : Loop over test events and fill histograms with classifier response...\n",
      "                         : \n",
      "                         : Also filling probability and rarity histograms (on request)...\n",
      "TFHandler_Fisher         : Variable        Mean        RMS   [        Min        Max ]\n",
      "                         : -----------------------------------------------------------\n",
      "                         :    comed:     6.0049     2.2868   [     1.0000     10.000 ]\n",
      "                         :    drama:     3.5488     1.6121   [     1.0000     10.000 ]\n",
      "                         :    epifa:     6.0854     3.1289   [     1.0000     10.000 ]\n",
      "                         :    eroti:     4.5317     2.8653   [     1.0000     10.000 ]\n",
      "                         :    myste:     6.5829     2.6391   [     1.0000     10.000 ]\n",
      "                         :    roman:     4.3780     3.0429   [     1.0000     10.000 ]\n",
      "                         :    thril:     7.0878     1.7702   [     2.0000     10.000 ]\n",
      "                         : -----------------------------------------------------------\n",
      "                         : \n",
      "                         : Evaluation results ranked by best signal efficiency and purity (area)\n",
      "                         : -------------------------------------------------------------------------------------------------------------------\n",
      "                         : DataSet       MVA                       \n",
      "                         : Name:         Method:          ROC-integ\n",
      "                         : dataset       Fisher         : 0.759\n",
      "                         : dataset       MLP            : 0.709\n",
      "                         : dataset       LikelihoodD    : 0.656\n",
      "                         : -------------------------------------------------------------------------------------------------------------------\n",
      "                         : \n",
      "                         : Testing efficiency compared to training efficiency (overtraining check)\n",
      "                         : -------------------------------------------------------------------------------------------------------------------\n",
      "                         : DataSet              MVA              Signal efficiency: from test sample (from training sample) \n",
      "                         : Name:                Method:          @B=0.01             @B=0.10            @B=0.30   \n",
      "                         : -------------------------------------------------------------------------------------------------------------------\n",
      "                         : dataset              Fisher         : 0.074 (0.074)       0.392 (0.307)      0.692 (0.693)\n",
      "                         : dataset              MLP            : 0.080 (0.284)       0.299 (0.570)      0.607 (0.731)\n",
      "                         : dataset              LikelihoodD    : 0.034 (0.018)       0.189 (0.179)      0.507 (0.547)\n",
      "                         : -------------------------------------------------------------------------------------------------------------------\n",
      "                         : \n",
      "Dataset:dataset          : Created tree 'TestTree' with 410 events\n",
      "                         : \n",
      "Dataset:dataset          : Created tree 'TrainTree' with 410 events\n",
      "                         : \n",
      "Factory                  : \u001b[1mThank you for using TMVA!\u001b[0m\n",
      "                         : \u001b[1mFor citation information, please visit: http://tmva.sf.net/citeTMVA.html\u001b[0m\n"
     ]
    }
   ],
   "source": [
    " factory.EvaluateAllMethods()"
   ]
  },
  {
   "cell_type": "code",
   "execution_count": 120,
   "id": "494ce973-cb19-45bd-a902-6437fc1ada84",
   "metadata": {},
   "outputs": [
    {
     "data": {
      "text/plain": [
       "352307"
      ]
     },
     "execution_count": 120,
     "metadata": {},
     "output_type": "execute_result"
    }
   ],
   "source": [
    "outputfile.Write()"
   ]
  },
  {
   "cell_type": "code",
   "execution_count": 121,
   "id": "6a8c2fc2-f77c-4692-966c-5f3f6746a723",
   "metadata": {},
   "outputs": [
    {
     "name": "stdout",
     "output_type": "stream",
     "text": [
      "--- Launch TMVA GUI to view input file: flixnet.root\n"
     ]
    }
   ],
   "source": [
    "ROOT.TMVA.TMVAGui(\"flixnet.root\")"
   ]
  },
  {
   "cell_type": "code",
   "execution_count": 43,
   "id": "64a433f0-7a4d-44fc-9f3e-a21e88aad09e",
   "metadata": {},
   "outputs": [],
   "source": [
    "f = ROOT.TFile(\"flixnet.root\")"
   ]
  }
 ],
 "metadata": {
  "kernelspec": {
   "display_name": "Python 3 (ipykernel)",
   "language": "python",
   "name": "python3"
  },
  "language_info": {
   "codemirror_mode": {
    "name": "ipython",
    "version": 3
   },
   "file_extension": ".py",
   "mimetype": "text/x-python",
   "name": "python",
   "nbconvert_exporter": "python",
   "pygments_lexer": "ipython3",
   "version": "3.12.8"
  }
 },
 "nbformat": 4,
 "nbformat_minor": 5
}
